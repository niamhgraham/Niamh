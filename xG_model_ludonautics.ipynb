{
 "cells": [
  {
   "cell_type": "code",
   "execution_count": 101,
   "id": "8ea58546",
   "metadata": {},
   "outputs": [],
   "source": [
    "import sqlite3\n",
    "import pandas as pd\n",
    "import numpy as np\n",
    "import math\n",
    "from sklearn.linear_model import LogisticRegression\n",
    "from sklearn.model_selection import train_test_split\n",
    "from sklearn.metrics import roc_auc_score, accuracy_score, roc_curve\n",
    "import statsmodels.api as sm\n",
    "import matplotlib.pyplot as plt\n",
    "from mplsoccer import Pitch\n",
    "import matplotlib.pyplot as plt\n",
    "import seaborn as sns\n",
    "from datetime import date\n",
    "from scipy.stats import rankdata\n",
    "from sklearn.preprocessing import MinMaxScaler"
   ]
  },
  {
   "cell_type": "code",
   "execution_count": 58,
   "id": "bce6ce5b",
   "metadata": {},
   "outputs": [],
   "source": [
    "connection=sqlite3.connect(\"shots_dataset_ludo_exercise.sqlite\")"
   ]
  },
  {
   "cell_type": "code",
   "execution_count": 59,
   "id": "52d73b56",
   "metadata": {},
   "outputs": [
    {
     "name": "stdout",
     "output_type": "stream",
     "text": [
      "            name\n",
      "0  shots_dataset\n"
     ]
    }
   ],
   "source": [
    "tables = pd.read_sql(\"SELECT name FROM sqlite_master WHERE type='table';\", connection)\n",
    "print(tables)\n"
   ]
  },
  {
   "cell_type": "code",
   "execution_count": 60,
   "id": "0821caf8",
   "metadata": {},
   "outputs": [],
   "source": [
    "shots = pd.read_sql(\"SELECT * FROM shots_dataset\",connection)"
   ]
  },
  {
   "cell_type": "code",
   "execution_count": 5,
   "id": "5805a285",
   "metadata": {},
   "outputs": [],
   "source": [
    "connection.close()"
   ]
  },
  {
   "cell_type": "code",
   "execution_count": 61,
   "id": "b8f4eb1b",
   "metadata": {},
   "outputs": [
    {
     "name": "stdout",
     "output_type": "stream",
     "text": [
      "   player_id                   player_name player_birth_date  team_id  \\\n",
      "0     5678.0  Jefferson Andrés Lerma Solís        1994-10-25      221   \n",
      "1     6742.0        Sergio Gontán Gallardo        1991-12-28      322   \n",
      "2     6557.0       Adrián González Morales        1988-05-25      322   \n",
      "3     6566.0          Borja González Tomás        1992-08-25      322   \n",
      "4    27250.0                  Nabil Ghilas        1990-04-20      221   \n",
      "\n",
      "    team_name      x     y shot_context   play_context   body_part  \\\n",
      "0  Levante UD  112.5  42.1    Open Play    From Corner        Head   \n",
      "1       Eibar   90.9  39.9    Open Play    From Corner  Right Foot   \n",
      "2       Eibar  103.1  52.5    Open Play  From Throw In  Right Foot   \n",
      "3       Eibar  116.6  38.6    Open Play    From Corner        Head   \n",
      "4  Levante UD  112.4  35.8    Open Play  From Throw In        Head   \n",
      "\n",
      "     technique     outcome  \n",
      "0       Normal  Off Target  \n",
      "1       Normal       Saved  \n",
      "2  Half Volley     Blocked  \n",
      "3       Normal        Goal  \n",
      "4       Normal  Off Target  \n"
     ]
    }
   ],
   "source": [
    "print(shots.head())"
   ]
  },
  {
   "cell_type": "code",
   "execution_count": 62,
   "id": "d442f7f3",
   "metadata": {},
   "outputs": [
    {
     "name": "stdout",
     "output_type": "stream",
     "text": [
      "(45719, 12)\n",
      "play_context\n",
      "Regular Play      14991\n",
      "From Free Kick     9643\n",
      "From Throw In      8098\n",
      "From Corner        7395\n",
      "From Counter       2043\n",
      "From Goal Kick     1727\n",
      "From Keeper         778\n",
      "Other               540\n",
      "From Kick Off       504\n",
      "Name: count, dtype: int64\n",
      "shot_context\n",
      "Open Play    43096\n",
      "Free Kick     2124\n",
      "Penalty        486\n",
      "Corner          13\n",
      "Name: count, dtype: int64\n",
      "technique\n",
      "Normal           34689\n",
      "Half Volley       6854\n",
      "Volley            3156\n",
      "Lob                404\n",
      "Overhead Kick      259\n",
      "Backheel           183\n",
      "Diving Header      174\n",
      "Name: count, dtype: int64\n"
     ]
    }
   ],
   "source": [
    "### LOOKING AT CLASS BALANCE WITHIN THE DATA SET ####\n",
    "\n",
    "print(shots.shape)\n",
    "print(shots['play_context'].value_counts())\n",
    "print(shots['shot_context'].value_counts())\n",
    "print(shots['technique'].value_counts())"
   ]
  },
  {
   "cell_type": "code",
   "execution_count": 63,
   "id": "9fc7ae1d",
   "metadata": {},
   "outputs": [],
   "source": [
    "#### FILTERING OUT OPEN PLAY DATA ####\n",
    "shots=shots[shots[\"shot_context\"]==\"Open Play\"]"
   ]
  },
  {
   "cell_type": "code",
   "execution_count": 64,
   "id": "c43eb7c6",
   "metadata": {},
   "outputs": [
    {
     "data": {
      "text/html": [
       "<div>\n",
       "<style scoped>\n",
       "    .dataframe tbody tr th:only-of-type {\n",
       "        vertical-align: middle;\n",
       "    }\n",
       "\n",
       "    .dataframe tbody tr th {\n",
       "        vertical-align: top;\n",
       "    }\n",
       "\n",
       "    .dataframe thead th {\n",
       "        text-align: right;\n",
       "    }\n",
       "</style>\n",
       "<table border=\"1\" class=\"dataframe\">\n",
       "  <thead>\n",
       "    <tr style=\"text-align: right;\">\n",
       "      <th></th>\n",
       "      <th>player_id</th>\n",
       "      <th>player_name</th>\n",
       "      <th>player_birth_date</th>\n",
       "      <th>team_id</th>\n",
       "      <th>team_name</th>\n",
       "      <th>x</th>\n",
       "      <th>y</th>\n",
       "      <th>shot_context</th>\n",
       "      <th>play_context</th>\n",
       "      <th>body_part</th>\n",
       "      <th>technique</th>\n",
       "      <th>outcome</th>\n",
       "    </tr>\n",
       "  </thead>\n",
       "  <tbody>\n",
       "    <tr>\n",
       "      <th>0</th>\n",
       "      <td>5678.0</td>\n",
       "      <td>Jefferson Andrés Lerma Solís</td>\n",
       "      <td>1994-10-25</td>\n",
       "      <td>221</td>\n",
       "      <td>Levante UD</td>\n",
       "      <td>112.5</td>\n",
       "      <td>42.1</td>\n",
       "      <td>Open Play</td>\n",
       "      <td>From Corner</td>\n",
       "      <td>Head</td>\n",
       "      <td>Normal</td>\n",
       "      <td>Off Target</td>\n",
       "    </tr>\n",
       "    <tr>\n",
       "      <th>1</th>\n",
       "      <td>6742.0</td>\n",
       "      <td>Sergio Gontán Gallardo</td>\n",
       "      <td>1991-12-28</td>\n",
       "      <td>322</td>\n",
       "      <td>Eibar</td>\n",
       "      <td>90.9</td>\n",
       "      <td>39.9</td>\n",
       "      <td>Open Play</td>\n",
       "      <td>From Corner</td>\n",
       "      <td>Right Foot</td>\n",
       "      <td>Normal</td>\n",
       "      <td>Saved</td>\n",
       "    </tr>\n",
       "    <tr>\n",
       "      <th>2</th>\n",
       "      <td>6557.0</td>\n",
       "      <td>Adrián González Morales</td>\n",
       "      <td>1988-05-25</td>\n",
       "      <td>322</td>\n",
       "      <td>Eibar</td>\n",
       "      <td>103.1</td>\n",
       "      <td>52.5</td>\n",
       "      <td>Open Play</td>\n",
       "      <td>From Throw In</td>\n",
       "      <td>Right Foot</td>\n",
       "      <td>Half Volley</td>\n",
       "      <td>Blocked</td>\n",
       "    </tr>\n",
       "    <tr>\n",
       "      <th>3</th>\n",
       "      <td>6566.0</td>\n",
       "      <td>Borja González Tomás</td>\n",
       "      <td>1992-08-25</td>\n",
       "      <td>322</td>\n",
       "      <td>Eibar</td>\n",
       "      <td>116.6</td>\n",
       "      <td>38.6</td>\n",
       "      <td>Open Play</td>\n",
       "      <td>From Corner</td>\n",
       "      <td>Head</td>\n",
       "      <td>Normal</td>\n",
       "      <td>Goal</td>\n",
       "    </tr>\n",
       "    <tr>\n",
       "      <th>4</th>\n",
       "      <td>27250.0</td>\n",
       "      <td>Nabil Ghilas</td>\n",
       "      <td>1990-04-20</td>\n",
       "      <td>221</td>\n",
       "      <td>Levante UD</td>\n",
       "      <td>112.4</td>\n",
       "      <td>35.8</td>\n",
       "      <td>Open Play</td>\n",
       "      <td>From Throw In</td>\n",
       "      <td>Head</td>\n",
       "      <td>Normal</td>\n",
       "      <td>Off Target</td>\n",
       "    </tr>\n",
       "  </tbody>\n",
       "</table>\n",
       "</div>"
      ],
      "text/plain": [
       "   player_id                   player_name player_birth_date  team_id  \\\n",
       "0     5678.0  Jefferson Andrés Lerma Solís        1994-10-25      221   \n",
       "1     6742.0        Sergio Gontán Gallardo        1991-12-28      322   \n",
       "2     6557.0       Adrián González Morales        1988-05-25      322   \n",
       "3     6566.0          Borja González Tomás        1992-08-25      322   \n",
       "4    27250.0                  Nabil Ghilas        1990-04-20      221   \n",
       "\n",
       "    team_name      x     y shot_context   play_context   body_part  \\\n",
       "0  Levante UD  112.5  42.1    Open Play    From Corner        Head   \n",
       "1       Eibar   90.9  39.9    Open Play    From Corner  Right Foot   \n",
       "2       Eibar  103.1  52.5    Open Play  From Throw In  Right Foot   \n",
       "3       Eibar  116.6  38.6    Open Play    From Corner        Head   \n",
       "4  Levante UD  112.4  35.8    Open Play  From Throw In        Head   \n",
       "\n",
       "     technique     outcome  \n",
       "0       Normal  Off Target  \n",
       "1       Normal       Saved  \n",
       "2  Half Volley     Blocked  \n",
       "3       Normal        Goal  \n",
       "4       Normal  Off Target  "
      ]
     },
     "execution_count": 64,
     "metadata": {},
     "output_type": "execute_result"
    }
   ],
   "source": [
    "shots.head()"
   ]
  },
  {
   "cell_type": "code",
   "execution_count": 131,
   "id": "0b203c8c",
   "metadata": {},
   "outputs": [],
   "source": [
    "###### FEATURE ENGINEERING ######\n",
    "\n",
    "# Pitch = 120x80, goal centre at (120,40)\n",
    "goal_x, goal_y = 120, 40\n",
    "goal_width = 8\n",
    "\n",
    "# Distance to centre of goal \n",
    "shots[\"distance\"] = np.sqrt((goal_x - shots[\"x\"])**2 + (goal_y - shots[\"y\"])**2)\n",
    "\n",
    "\n",
    "def calculate_angle(row):\n",
    "    g0 = np.array([120, 44])   # top post\n",
    "    g1 = np.array([120, 36])   # bottom post\n",
    "    p  = np.array([row[\"x\"], row[\"y\"]])   # shot location\n",
    "    \n",
    "    v0 = g0 - p\n",
    "    v1 = g1 - p\n",
    "    \n",
    "    angle = np.arctan2(np.linalg.det([v0, v1]), np.dot(v0, v1))\n",
    "    return abs(np.degrees(angle))\n",
    "\n",
    "# Apply to each row\n",
    "shots[\"angle\"] = shots.apply(calculate_angle, axis=1)\n",
    "\n",
    "# Body part\n",
    "shots[\"header\"] = (shots[\"body_part\"] == \"Head\").astype(int)\n",
    "\n",
    "# Technique \n",
    "shots[\"technique_int\"]=(shots[\"technique\"]==\"Normal\").astype(int)\n",
    "\n",
    "# Play context\n",
    "shots[\"play_context_int\"]=(shots[\"play_context\"]==\"Regular Play\").astype(int)\n",
    "\n",
    "\n",
    "# Target label\n",
    "shots[\"goal\"] = (shots[\"outcome\"] == \"Goal\").astype(int)\n",
    "\n",
    "scaler = MinMaxScaler()\n",
    "\n",
    "# Select continuous features to scale\n",
    "features_to_scale = [\"distance\", \"angle\"]\n",
    "\n",
    "shots[[\"distance_scaled\", \"angle_scaled\"]] = scaler.fit_transform(shots[features_to_scale])\n",
    "\n"
   ]
  },
  {
   "cell_type": "code",
   "execution_count": 133,
   "id": "12d00681",
   "metadata": {},
   "outputs": [
    {
     "name": "stdout",
     "output_type": "stream",
     "text": [
      "                                    Model  Pseudo R²  Accuracy  ROC AUC\n",
      "0                       Model 1: distance      0.116     0.903    0.753\n",
      "1               Model 2: distance + angle      0.124     0.906    0.757\n",
      "2  Model 3: distance + angle + dist*angle      0.124     0.905    0.757\n",
      "3               Model 4: Model 3 + header      0.158     0.904    0.792\n",
      "4        Model 5: Model 4 + technique_int      0.164     0.906    0.793\n",
      "5     Model 6: Model 5 + play_context_int      0.165     0.906    0.793\n"
     ]
    },
    {
     "data": {
      "image/png": "[encoded data removed]",
      "text/plain": [
       "<Figure size 800x600 with 1 Axes>"
      ]
     },
     "metadata": {},
     "output_type": "display_data"
    }
   ],
   "source": [
    "\n",
    "# Interaction term\n",
    "shots[\"dist_angle\"] = shots[\"distance\"] * shots[\"angle\"]\n",
    "\n",
    "# Train/test split\n",
    "train, test = train_test_split(shots, test_size=0.2, random_state=2)\n",
    "\n",
    "# Store results\n",
    "results = []\n",
    "roc_curves = {}\n",
    "\n",
    "# Define model specs\n",
    "models = {\n",
    "    \"Model 1: distance\": [\"distance\"],\n",
    "    \"Model 2: distance + angle\": [\"distance\", \"angle\"],\n",
    "    \"Model 3: distance + angle + dist*angle\": [\"distance\", \"angle\", \"dist_angle\"],\n",
    "    \"Model 4: Model 3 + header\": [\"distance\", \"angle\", \"dist_angle\", \"header\"],\n",
    "    \"Model 5: Model 4 + technique_int\": [\"distance\", \"angle\", \"dist_angle\", \"header\", \"technique_int\"],\n",
    "    \"Model 6: Model 5 + play_context_int\": [\"distance\", \"angle\", \"dist_angle\", \"header\", \"technique_int\", \"play_context_int\"]\n",
    "\n",
    "}\n",
    "\n",
    "for name, predictors in models.items():\n",
    "    # ---------------------------\n",
    "    # Fit model on training data\n",
    "    # ---------------------------\n",
    "    X_train = sm.add_constant(train[predictors])\n",
    "    y_train = train[\"goal\"]\n",
    "    model = sm.Logit(y_train, X_train).fit(disp=False)\n",
    "\n",
    "    # ---------------------------\n",
    "    # Predict on test set\n",
    "    # ---------------------------\n",
    "    X_test = sm.add_constant(test[predictors])\n",
    "    y_test = test[\"goal\"]\n",
    "    y_pred_prob = model.predict(X_test)\n",
    "    y_pred_class = (y_pred_prob > 0.5).astype(int)\n",
    "\n",
    "    # ---------------------------\n",
    "    # Metrics\n",
    "    # ---------------------------\n",
    "    pseudo_r2 = model.prsquared\n",
    "    accuracy = accuracy_score(y_test, y_pred_class)\n",
    "    auc = roc_auc_score(y_test, y_pred_prob)\n",
    "\n",
    "    results.append({\n",
    "        \"Model\": name,\n",
    "        \"Pseudo R²\": round(pseudo_r2, 3),\n",
    "        \"Accuracy\": round(accuracy, 3),\n",
    "        \"ROC AUC\": round(auc, 3)\n",
    "    })\n",
    "\n",
    "    # Store ROC curve data\n",
    "    fpr, tpr, _ = roc_curve(y_test, y_pred_prob)\n",
    "    roc_curves[name] = (fpr, tpr, auc,accuracy)\n",
    "\n",
    "# Results table\n",
    "results_df = pd.DataFrame(results)\n",
    "print(results_df)\n",
    "\n",
    "# --------------------------------------------------\n",
    "# Plot ROC curves\n",
    "# --------------------------------------------------\n",
    "plt.figure(figsize=(8,6))\n",
    "for name, (fpr, tpr, auc, accuracy) in roc_curves.items():\n",
    "    plt.plot(\n",
    "        fpr, \n",
    "        tpr,\n",
    "        label=f\"{name} \"\n",
    "        #(AUC = {auc:.3f}, Acc = {accuracy:.3f})\"\n",
    "    )\n",
    "\n",
    "# Diagonal line\n",
    "plt.plot([0,1],[0,1], linestyle=\"--\", color=\"grey\")\n",
    "\n",
    "plt.xlabel(\"False Positive Rate\")\n",
    "plt.ylabel(\"True Positive Rate\")\n",
    "plt.title(\"ROC Curves: xG Models\")\n",
    "plt.legend(loc=\"lower right\")\n",
    "plt.show()\n",
    "\n",
    "\n"
   ]
  },
  {
   "cell_type": "code",
   "execution_count": 104,
   "id": "6409c795",
   "metadata": {},
   "outputs": [
    {
     "name": "stdout",
     "output_type": "stream",
     "text": [
      "Optimization terminated successfully.\n",
      "         Current function value: 0.267571\n",
      "         Iterations 8\n",
      "                           Logit Regression Results                           \n",
      "==============================================================================\n",
      "Dep. Variable:                   goal   No. Observations:                43096\n",
      "Model:                          Logit   Df Residuals:                    43091\n",
      "Method:                           MLE   Df Model:                            4\n",
      "Date:                Mon, 25 Aug 2025   Pseudo R-squ.:                  0.1632\n",
      "Time:                        20:39:01   Log-Likelihood:                -11531.\n",
      "converged:                       True   LL-Null:                       -13781.\n",
      "Covariance Type:            nonrobust   LLR p-value:                     0.000\n",
      "=================================================================================\n",
      "                    coef    std err          z      P>|z|      [0.025      0.975]\n",
      "---------------------------------------------------------------------------------\n",
      "const            -1.0870      0.111     -9.757      0.000      -1.305      -0.869\n",
      "distance         -0.1249      0.005    -27.165      0.000      -0.134      -0.116\n",
      "angle             0.0256      0.002     16.412      0.000       0.023       0.029\n",
      "header           -1.6320      0.053    -30.685      0.000      -1.736      -1.528\n",
      "technique_int     0.5360      0.043     12.397      0.000       0.451       0.621\n",
      "=================================================================================\n"
     ]
    }
   ],
   "source": [
    "# Define features and target\n",
    "features = [\"distance\",\"angle\",\"header\",\"technique_int\"]\n",
    "X = shots[features]\n",
    "y = shots[\"goal\"]\n",
    "\n",
    "# Add intercept (constant term)\n",
    "X = sm.add_constant(X)\n",
    "\n",
    "# Fit logistic regression with statsmodels\n",
    "model = sm.Logit(y, X).fit()\n",
    "\n",
    "# Show summary with coefficients, p-values, confidence intervals\n",
    "print(model.summary())\n",
    "\n",
    "# Add xG predictions\n",
    "shots[\"xG\"] = model.predict(X)\n"
   ]
  },
  {
   "cell_type": "code",
   "execution_count": 105,
   "id": "2b2a8e50",
   "metadata": {},
   "outputs": [
    {
     "data": {
      "image/png": "[encoded data removed]",
      "text/plain": [
       "<Figure size 700x500 with 1 Axes>"
      ]
     },
     "metadata": {},
     "output_type": "display_data"
    }
   ],
   "source": [
    "# Get coefficients and 95% confidence intervals\n",
    "params = model.params\n",
    "conf = model.conf_int()\n",
    "conf[\"coef\"] = params\n",
    "conf.columns = [\"lower\", \"upper\", \"coef\"]\n",
    "\n",
    "# Drop intercept if you only want features\n",
    "conf = conf.drop(\"const\")\n",
    "\n",
    "# Plot\n",
    "plt.figure(figsize=(7,5))\n",
    "plt.errorbar(conf.index, conf[\"coef\"], \n",
    "             yerr=[conf[\"coef\"]-conf[\"lower\"], conf[\"upper\"]-conf[\"coef\"]], \n",
    "             fmt=\"o\", capsize=4)\n",
    "\n",
    "plt.axhline(0, color=\"grey\", linestyle=\"--\", linewidth=1)\n",
    "plt.title(\"Logistic Regression Coefficients (with 95% CI)\")\n",
    "plt.ylabel(\"Coefficient value\")\n",
    "plt.xticks(rotation=30)\n",
    "plt.tight_layout()\n",
    "plt.show()"
   ]
  },
  {
   "cell_type": "code",
   "execution_count": 115,
   "id": "49e45526",
   "metadata": {},
   "outputs": [
    {
     "data": {
      "image/png": "[encoded data removed]",
      "text/plain": [
       "<Figure size 1000x700 with 1 Axes>"
      ]
     },
     "metadata": {},
     "output_type": "display_data"
    }
   ],
   "source": [
    "pitch = Pitch(pitch_type='statsbomb', half=True, pitch_color='white', line_color='black')\n",
    "fig, ax = pitch.draw(figsize=(10,7))\n",
    "\n",
    "# KDE heatmap weighted by xG\n",
    "sns.kdeplot(\n",
    "    x=shots['x'], \n",
    "    y=shots['y'],\n",
    "    weights=shots['xG'],   # weight by model xG\n",
    "    fill=True,\n",
    "    thresh=0,\n",
    "    levels=50,\n",
    "    cmap='Reds',\n",
    "    alpha=0.8,\n",
    "    ax=ax\n",
    ")\n",
    "\n",
    "ax.set_title(\"xG Heat Map\", fontsize=14)\n",
    "plt.show()"
   ]
  },
  {
   "cell_type": "code",
   "execution_count": 134,
   "id": "73a7e538",
   "metadata": {},
   "outputs": [],
   "source": [
    "bins = [0, 5, 10, 15, 20, 30, 40, 60]  # adjust to your pitch scale\n",
    "labels = [\"0-5m\", \"5-10m\", \"10-15m\", \"15-20m\", \"20-30m\", \"30-40m\", \"40m+\"]\n",
    "\n",
    "shots[\"distance_bin\"] = pd.cut(shots[\"distance\"], bins=bins, labels=labels, right=False)\n"
   ]
  },
  {
   "cell_type": "code",
   "execution_count": 135,
   "id": "2f44f5ba",
   "metadata": {},
   "outputs": [
    {
     "name": "stderr",
     "output_type": "stream",
     "text": [
      "/var/folders/41/q_56pzxj62b91jxq8xsy_scc0000gn/T/ipykernel_68539/2038924573.py:2: FutureWarning:\n",
      "\n",
      "The default of observed=False is deprecated and will be changed to True in a future version of pandas. Pass observed=False to retain current behavior or observed=True to adopt the future default and silence this warning.\n",
      "\n"
     ]
    }
   ],
   "source": [
    "summary = (\n",
    "    shots.groupby(\"distance_bin\")\n",
    "    .agg(\n",
    "        shots=(\"xG\", \"count\"),\n",
    "        goals=(\"goal\", \"sum\"),\n",
    "        avg_xG=(\"xG\", \"mean\")\n",
    "    )\n",
    "    .reset_index()\n",
    ")\n",
    "\n",
    "summary[\"actual_rate\"] = summary[\"goals\"] / summary[\"shots\"]\n",
    "summary[\"difference\"] = summary[\"avg_xG\"] - summary[\"actual_rate\"]\n"
   ]
  },
  {
   "cell_type": "code",
   "execution_count": 136,
   "id": "ac1b33ca",
   "metadata": {},
   "outputs": [
    {
     "data": {
      "image/png": "[encoded data removed]",
      "text/plain": [
       "<Figure size 800x500 with 2 Axes>"
      ]
     },
     "metadata": {},
     "output_type": "display_data"
    }
   ],
   "source": [
    "fig, ax1 = plt.subplots(figsize=(8,5))\n",
    "\n",
    "# Shots bar\n",
    "ax1.bar(summary[\"distance_bin\"], summary[\"shots\"], alpha=0.5, color=\"grey\")\n",
    "ax1.set_ylabel(\"Number of Shots\")\n",
    "\n",
    "# Overlay actual vs xG rates\n",
    "ax2 = ax1.twinx()\n",
    "ax2.plot(summary[\"distance_bin\"], summary[\"actual_rate\"], marker=\"o\", label=\"Actual\", color=\"blue\")\n",
    "ax2.plot(summary[\"distance_bin\"], summary[\"avg_xG\"], marker=\"o\", label=\"Model xG\", color=\"red\")\n",
    "ax2.set_ylabel(\"Probability\")\n",
    "\n",
    "ax1.set_title(\"xG Comparison by Shot Distance\")\n",
    "ax2.legend(loc=\"upper right\")\n",
    "\n",
    "plt.show()\n"
   ]
  },
  {
   "cell_type": "code",
   "execution_count": 77,
   "id": "17fdb28a",
   "metadata": {},
   "outputs": [],
   "source": [
    "# Define the function\n",
    "def age_in_1516(birthdate):\n",
    "    today = date.today()\n",
    "    return 2015 - birthdate.year - ((1, 1) < (birthdate.month, birthdate.day))\n",
    "\n",
    "# Ensure birthdate is datetime type\n",
    "shots[\"player_birth_date\"] = pd.to_datetime(shots[\"player_birth_date\"], errors=\"coerce\")\n",
    "\n",
    "# Apply function to create new column\n",
    "shots[\"age\"] = shots[\"player_birth_date\"].apply(age_in_1516)\n"
   ]
  },
  {
   "cell_type": "code",
   "execution_count": 78,
   "id": "6e724fbb",
   "metadata": {},
   "outputs": [
    {
     "name": "stdout",
     "output_type": "stream",
     "text": [
      "count    41326.000000\n",
      "mean        24.724556\n",
      "std          3.591499\n",
      "min         15.000000\n",
      "25%         22.000000\n",
      "50%         25.000000\n",
      "75%         27.000000\n",
      "max         39.000000\n",
      "Name: age, dtype: float64\n"
     ]
    }
   ],
   "source": [
    "shots[['player_birth_date','age']]\n",
    "print(shots[\"age\"].describe())\n"
   ]
  },
  {
   "cell_type": "code",
   "execution_count": 137,
   "id": "d9123de8",
   "metadata": {},
   "outputs": [
    {
     "data": {
      "text/html": [
       "<div>\n",
       "<style scoped>\n",
       "    .dataframe tbody tr th:only-of-type {\n",
       "        vertical-align: middle;\n",
       "    }\n",
       "\n",
       "    .dataframe tbody tr th {\n",
       "        vertical-align: top;\n",
       "    }\n",
       "\n",
       "    .dataframe thead th {\n",
       "        text-align: right;\n",
       "    }\n",
       "</style>\n",
       "<table border=\"1\" class=\"dataframe\">\n",
       "  <thead>\n",
       "    <tr style=\"text-align: right;\">\n",
       "      <th></th>\n",
       "      <th>player_id</th>\n",
       "      <th>player_name</th>\n",
       "      <th>player_birth_date</th>\n",
       "      <th>team_id</th>\n",
       "      <th>team_name</th>\n",
       "      <th>x</th>\n",
       "      <th>y</th>\n",
       "      <th>shot_context</th>\n",
       "      <th>play_context</th>\n",
       "      <th>body_part</th>\n",
       "      <th>...</th>\n",
       "      <th>Other</th>\n",
       "      <th>Regular Play</th>\n",
       "      <th>goal</th>\n",
       "      <th>play_context_int</th>\n",
       "      <th>dist_angle</th>\n",
       "      <th>xG</th>\n",
       "      <th>distance_bin</th>\n",
       "      <th>age</th>\n",
       "      <th>distance_scaled</th>\n",
       "      <th>angle_scaled</th>\n",
       "    </tr>\n",
       "  </thead>\n",
       "  <tbody>\n",
       "    <tr>\n",
       "      <th>0</th>\n",
       "      <td>5678.0</td>\n",
       "      <td>Jefferson Andrés Lerma Solís</td>\n",
       "      <td>1994-10-25</td>\n",
       "      <td>221</td>\n",
       "      <td>Levante UD</td>\n",
       "      <td>112.5</td>\n",
       "      <td>42.1</td>\n",
       "      <td>Open Play</td>\n",
       "      <td>From Corner</td>\n",
       "      <td>Head</td>\n",
       "      <td>...</td>\n",
       "      <td>0</td>\n",
       "      <td>0</td>\n",
       "      <td>0</td>\n",
       "      <td>0</td>\n",
       "      <td>415.424095</td>\n",
       "      <td>0.142851</td>\n",
       "      <td>5-10m</td>\n",
       "      <td>20.0</td>\n",
       "      <td>0.081133</td>\n",
       "      <td>0.296325</td>\n",
       "    </tr>\n",
       "    <tr>\n",
       "      <th>1</th>\n",
       "      <td>6742.0</td>\n",
       "      <td>Sergio Gontán Gallardo</td>\n",
       "      <td>1991-12-28</td>\n",
       "      <td>322</td>\n",
       "      <td>Eibar</td>\n",
       "      <td>90.9</td>\n",
       "      <td>39.9</td>\n",
       "      <td>Open Play</td>\n",
       "      <td>From Corner</td>\n",
       "      <td>Right Foot</td>\n",
       "      <td>...</td>\n",
       "      <td>0</td>\n",
       "      <td>0</td>\n",
       "      <td>0</td>\n",
       "      <td>0</td>\n",
       "      <td>455.509146</td>\n",
       "      <td>0.022178</td>\n",
       "      <td>20-30m</td>\n",
       "      <td>23.0</td>\n",
       "      <td>0.322761</td>\n",
       "      <td>0.086962</td>\n",
       "    </tr>\n",
       "    <tr>\n",
       "      <th>3</th>\n",
       "      <td>6566.0</td>\n",
       "      <td>Borja González Tomás</td>\n",
       "      <td>1992-08-25</td>\n",
       "      <td>322</td>\n",
       "      <td>Eibar</td>\n",
       "      <td>116.6</td>\n",
       "      <td>38.6</td>\n",
       "      <td>Open Play</td>\n",
       "      <td>From Corner</td>\n",
       "      <td>Head</td>\n",
       "      <td>...</td>\n",
       "      <td>0</td>\n",
       "      <td>0</td>\n",
       "      <td>1</td>\n",
       "      <td>0</td>\n",
       "      <td>350.081523</td>\n",
       "      <td>0.448384</td>\n",
       "      <td>0-5m</td>\n",
       "      <td>22.0</td>\n",
       "      <td>0.034518</td>\n",
       "      <td>0.528942</td>\n",
       "    </tr>\n",
       "    <tr>\n",
       "      <th>11</th>\n",
       "      <td>6566.0</td>\n",
       "      <td>Borja González Tomás</td>\n",
       "      <td>1992-08-25</td>\n",
       "      <td>322</td>\n",
       "      <td>Eibar</td>\n",
       "      <td>113.0</td>\n",
       "      <td>34.4</td>\n",
       "      <td>Open Play</td>\n",
       "      <td>From Counter</td>\n",
       "      <td>Right Foot</td>\n",
       "      <td>...</td>\n",
       "      <td>0</td>\n",
       "      <td>0</td>\n",
       "      <td>1</td>\n",
       "      <td>0</td>\n",
       "      <td>367.778810</td>\n",
       "      <td>0.239096</td>\n",
       "      <td>5-10m</td>\n",
       "      <td>22.0</td>\n",
       "      <td>0.094465</td>\n",
       "      <td>0.227926</td>\n",
       "    </tr>\n",
       "    <tr>\n",
       "      <th>18</th>\n",
       "      <td>6699.0</td>\n",
       "      <td>Ander Capa Rodríguez</td>\n",
       "      <td>1992-02-08</td>\n",
       "      <td>322</td>\n",
       "      <td>Eibar</td>\n",
       "      <td>103.2</td>\n",
       "      <td>35.7</td>\n",
       "      <td>Open Play</td>\n",
       "      <td>From Corner</td>\n",
       "      <td>Right Foot</td>\n",
       "      <td>...</td>\n",
       "      <td>0</td>\n",
       "      <td>0</td>\n",
       "      <td>0</td>\n",
       "      <td>0</td>\n",
       "      <td>438.196030</td>\n",
       "      <td>0.068671</td>\n",
       "      <td>15-20m</td>\n",
       "      <td>22.0</td>\n",
       "      <td>0.189444</td>\n",
       "      <td>0.140381</td>\n",
       "    </tr>\n",
       "  </tbody>\n",
       "</table>\n",
       "<p>5 rows × 32 columns</p>\n",
       "</div>"
      ],
      "text/plain": [
       "    player_id                   player_name player_birth_date  team_id  \\\n",
       "0      5678.0  Jefferson Andrés Lerma Solís        1994-10-25      221   \n",
       "1      6742.0        Sergio Gontán Gallardo        1991-12-28      322   \n",
       "3      6566.0          Borja González Tomás        1992-08-25      322   \n",
       "11     6566.0          Borja González Tomás        1992-08-25      322   \n",
       "18     6699.0          Ander Capa Rodríguez        1992-02-08      322   \n",
       "\n",
       "     team_name      x     y shot_context  play_context   body_part  ... Other  \\\n",
       "0   Levante UD  112.5  42.1    Open Play   From Corner        Head  ...     0   \n",
       "1        Eibar   90.9  39.9    Open Play   From Corner  Right Foot  ...     0   \n",
       "3        Eibar  116.6  38.6    Open Play   From Corner        Head  ...     0   \n",
       "11       Eibar  113.0  34.4    Open Play  From Counter  Right Foot  ...     0   \n",
       "18       Eibar  103.2  35.7    Open Play   From Corner  Right Foot  ...     0   \n",
       "\n",
       "   Regular Play  goal  play_context_int  dist_angle        xG  distance_bin  \\\n",
       "0             0     0                 0  415.424095  0.142851         5-10m   \n",
       "1             0     0                 0  455.509146  0.022178        20-30m   \n",
       "3             0     1                 0  350.081523  0.448384          0-5m   \n",
       "11            0     1                 0  367.778810  0.239096         5-10m   \n",
       "18            0     0                 0  438.196030  0.068671        15-20m   \n",
       "\n",
       "     age  distance_scaled  angle_scaled  \n",
       "0   20.0         0.081133      0.296325  \n",
       "1   23.0         0.322761      0.086962  \n",
       "3   22.0         0.034518      0.528942  \n",
       "11  22.0         0.094465      0.227926  \n",
       "18  22.0         0.189444      0.140381  \n",
       "\n",
       "[5 rows x 32 columns]"
      ]
     },
     "execution_count": 137,
     "metadata": {},
     "output_type": "execute_result"
    }
   ],
   "source": [
    "young_players=shots[shots['age']<=23]\n",
    "young_players.head()"
   ]
  },
  {
   "cell_type": "code",
   "execution_count": 138,
   "id": "ecd77598",
   "metadata": {},
   "outputs": [
    {
     "name": "stdout",
     "output_type": "stream",
     "text": [
      "             player_name   age  shots_taken  goals  total_xG    avg_xG  \\\n",
      "746       Soualiho Meïté  20.0            1      0  0.505600  0.505600   \n",
      "782        Tyler Roberts  15.0            1      0  0.489271  0.489271   \n",
      "688  Roberto Suárez Pier  19.0            1      0  0.388233  0.388233   \n",
      "834     Łukasz Skorupski  23.0            1      0  0.355492  0.355492   \n",
      "323        Jack Wilshere  23.0            1      0  0.347858  0.347858   \n",
      "\n",
      "                        teams  \n",
      "746                   [Lille]  \n",
      "782    [West Bromwich Albion]  \n",
      "688  [RC Deportivo La Coruña]  \n",
      "834                  [Empoli]  \n",
      "323                 [Arsenal]  \n"
     ]
    }
   ],
   "source": [
    "player_summary = (\n",
    "    young_players.groupby([\"player_name\",\"age\"])\n",
    "    .agg(\n",
    "        shots_taken = (\"goal\", \"count\"),     # number of shots\n",
    "        goals = (\"goal\", \"sum\"),             # number of goals\n",
    "        total_xG = (\"xG\", \"sum\"),            # sum of xG\n",
    "        avg_xG = (\"xG\", \"mean\"),              # average xG per shot\n",
    "        teams=(\"team_name\",lambda x: list(set(x)))    )\n",
    "    .reset_index()\n",
    "    .sort_values(\"avg_xG\", ascending=False)\n",
    ")\n",
    "\n",
    "print(player_summary.head())"
   ]
  },
  {
   "cell_type": "code",
   "execution_count": 83,
   "id": "a8008997",
   "metadata": {},
   "outputs": [
    {
     "data": {
      "text/plain": [
       "(array([505., 157.,  83.,  57.,  16.,   9.,   3.,   3.,   2.,   1.]),\n",
       " array([  1. ,  16.1,  31.2,  46.3,  61.4,  76.5,  91.6, 106.7, 121.8,\n",
       "        136.9, 152. ]),\n",
       " <BarContainer object of 10 artists>)"
      ]
     },
     "execution_count": 83,
     "metadata": {},
     "output_type": "execute_result"
    },
    {
     "data": {
      "image/png": "[encoded data removed]",
      "text/plain": [
       "<Figure size 640x480 with 1 Axes>"
      ]
     },
     "metadata": {},
     "output_type": "display_data"
    }
   ],
   "source": [
    "plt.hist(player_summary['shots_taken'])"
   ]
  },
  {
   "cell_type": "code",
   "execution_count": 84,
   "id": "3ee0da80",
   "metadata": {},
   "outputs": [],
   "source": [
    "## filter out players who took less than 20 shots - otherwise get noisy data\n",
    "\n",
    "player_summary=player_summary[player_summary['shots_taken']>=20]"
   ]
  },
  {
   "cell_type": "code",
   "execution_count": 86,
   "id": "91cb900f",
   "metadata": {},
   "outputs": [
    {
     "name": "stderr",
     "output_type": "stream",
     "text": [
      "/var/folders/41/q_56pzxj62b91jxq8xsy_scc0000gn/T/ipykernel_68539/1906977491.py:1: SettingWithCopyWarning:\n",
      "\n",
      "\n",
      "A value is trying to be set on a copy of a slice from a DataFrame.\n",
      "Try using .loc[row_indexer,col_indexer] = value instead\n",
      "\n",
      "See the caveats in the documentation: https://pandas.pydata.org/pandas-docs/stable/user_guide/indexing.html#returning-a-view-versus-a-copy\n",
      "\n"
     ]
    }
   ],
   "source": [
    "player_summary['overperformance']=(player_summary['goals']-player_summary['total_xG'])/player_summary['shots_taken']"
   ]
  },
  {
   "cell_type": "code",
   "execution_count": 88,
   "id": "1444e29e",
   "metadata": {},
   "outputs": [
    {
     "data": {
      "text/html": [
       "<div>\n",
       "<style scoped>\n",
       "    .dataframe tbody tr th:only-of-type {\n",
       "        vertical-align: middle;\n",
       "    }\n",
       "\n",
       "    .dataframe tbody tr th {\n",
       "        vertical-align: top;\n",
       "    }\n",
       "\n",
       "    .dataframe thead th {\n",
       "        text-align: right;\n",
       "    }\n",
       "</style>\n",
       "<table border=\"1\" class=\"dataframe\">\n",
       "  <thead>\n",
       "    <tr style=\"text-align: right;\">\n",
       "      <th></th>\n",
       "      <th>player_name</th>\n",
       "      <th>age</th>\n",
       "      <th>shots_taken</th>\n",
       "      <th>goals</th>\n",
       "      <th>total_xG</th>\n",
       "      <th>avg_xG</th>\n",
       "      <th>teams</th>\n",
       "      <th>overperformance</th>\n",
       "    </tr>\n",
       "  </thead>\n",
       "  <tbody>\n",
       "    <tr>\n",
       "      <th>701</th>\n",
       "      <td>Romelu Lukaku Menama</td>\n",
       "      <td>21.0</td>\n",
       "      <td>109</td>\n",
       "      <td>17</td>\n",
       "      <td>17.376951</td>\n",
       "      <td>0.159422</td>\n",
       "      <td>[Everton]</td>\n",
       "      <td>-0.003458</td>\n",
       "    </tr>\n",
       "    <tr>\n",
       "      <th>297</th>\n",
       "      <td>Harry Kane</td>\n",
       "      <td>21.0</td>\n",
       "      <td>152</td>\n",
       "      <td>20</td>\n",
       "      <td>16.780940</td>\n",
       "      <td>0.110401</td>\n",
       "      <td>[Tottenham Hotspur]</td>\n",
       "      <td>0.021178</td>\n",
       "    </tr>\n",
       "    <tr>\n",
       "      <th>600</th>\n",
       "      <td>Neymar da Silva Santos Junior</td>\n",
       "      <td>22.0</td>\n",
       "      <td>102</td>\n",
       "      <td>18</td>\n",
       "      <td>16.531256</td>\n",
       "      <td>0.162071</td>\n",
       "      <td>[Barcelona]</td>\n",
       "      <td>0.014399</td>\n",
       "    </tr>\n",
       "    <tr>\n",
       "      <th>568</th>\n",
       "      <td>Michy Batshuayi Tunga</td>\n",
       "      <td>21.0</td>\n",
       "      <td>115</td>\n",
       "      <td>15</td>\n",
       "      <td>15.920925</td>\n",
       "      <td>0.138443</td>\n",
       "      <td>[Marseille]</td>\n",
       "      <td>-0.008008</td>\n",
       "    </tr>\n",
       "    <tr>\n",
       "      <th>49</th>\n",
       "      <td>Alexandre Lacazette</td>\n",
       "      <td>23.0</td>\n",
       "      <td>91</td>\n",
       "      <td>19</td>\n",
       "      <td>14.530583</td>\n",
       "      <td>0.159677</td>\n",
       "      <td>[Lyon]</td>\n",
       "      <td>0.049114</td>\n",
       "    </tr>\n",
       "    <tr>\n",
       "      <th>113</th>\n",
       "      <td>Borja González Tomás</td>\n",
       "      <td>22.0</td>\n",
       "      <td>91</td>\n",
       "      <td>15</td>\n",
       "      <td>14.099628</td>\n",
       "      <td>0.154941</td>\n",
       "      <td>[Eibar]</td>\n",
       "      <td>0.009894</td>\n",
       "    </tr>\n",
       "    <tr>\n",
       "      <th>527</th>\n",
       "      <td>Martin Braithwaite Christensen</td>\n",
       "      <td>23.0</td>\n",
       "      <td>99</td>\n",
       "      <td>8</td>\n",
       "      <td>13.191057</td>\n",
       "      <td>0.133243</td>\n",
       "      <td>[Toulouse]</td>\n",
       "      <td>-0.052435</td>\n",
       "    </tr>\n",
       "    <tr>\n",
       "      <th>81</th>\n",
       "      <td>Antoine Griezmann</td>\n",
       "      <td>23.0</td>\n",
       "      <td>85</td>\n",
       "      <td>19</td>\n",
       "      <td>11.401254</td>\n",
       "      <td>0.134132</td>\n",
       "      <td>[Atlético Madrid]</td>\n",
       "      <td>0.089397</td>\n",
       "    </tr>\n",
       "    <tr>\n",
       "      <th>713</th>\n",
       "      <td>Sadio Mané</td>\n",
       "      <td>22.0</td>\n",
       "      <td>85</td>\n",
       "      <td>11</td>\n",
       "      <td>10.770893</td>\n",
       "      <td>0.126716</td>\n",
       "      <td>[Southampton]</td>\n",
       "      <td>0.002695</td>\n",
       "    </tr>\n",
       "    <tr>\n",
       "      <th>30</th>\n",
       "      <td>Aleksandar Mitrović</td>\n",
       "      <td>20.0</td>\n",
       "      <td>78</td>\n",
       "      <td>7</td>\n",
       "      <td>10.206592</td>\n",
       "      <td>0.130854</td>\n",
       "      <td>[Newcastle United]</td>\n",
       "      <td>-0.041110</td>\n",
       "    </tr>\n",
       "    <tr>\n",
       "      <th>554</th>\n",
       "      <td>Mauro Emanuel Icardi Rivero</td>\n",
       "      <td>21.0</td>\n",
       "      <td>57</td>\n",
       "      <td>15</td>\n",
       "      <td>10.119717</td>\n",
       "      <td>0.177539</td>\n",
       "      <td>[Inter Milan]</td>\n",
       "      <td>0.085619</td>\n",
       "    </tr>\n",
       "    <tr>\n",
       "      <th>67</th>\n",
       "      <td>Andrea Belotti</td>\n",
       "      <td>21.0</td>\n",
       "      <td>69</td>\n",
       "      <td>8</td>\n",
       "      <td>10.036159</td>\n",
       "      <td>0.145452</td>\n",
       "      <td>[Torino]</td>\n",
       "      <td>-0.029510</td>\n",
       "    </tr>\n",
       "    <tr>\n",
       "      <th>251</th>\n",
       "      <td>Francisco Alcácer García</td>\n",
       "      <td>21.0</td>\n",
       "      <td>57</td>\n",
       "      <td>11</td>\n",
       "      <td>9.994244</td>\n",
       "      <td>0.175338</td>\n",
       "      <td>[Valencia]</td>\n",
       "      <td>0.017645</td>\n",
       "    </tr>\n",
       "    <tr>\n",
       "      <th>92</th>\n",
       "      <td>Arnaldo Antonio Sanabria Ayala</td>\n",
       "      <td>18.0</td>\n",
       "      <td>49</td>\n",
       "      <td>9</td>\n",
       "      <td>9.639058</td>\n",
       "      <td>0.196715</td>\n",
       "      <td>[Sporting Gijón]</td>\n",
       "      <td>-0.013042</td>\n",
       "    </tr>\n",
       "    <tr>\n",
       "      <th>77</th>\n",
       "      <td>Andy Delort</td>\n",
       "      <td>23.0</td>\n",
       "      <td>123</td>\n",
       "      <td>8</td>\n",
       "      <td>9.472973</td>\n",
       "      <td>0.077016</td>\n",
       "      <td>[Caen]</td>\n",
       "      <td>-0.011975</td>\n",
       "    </tr>\n",
       "    <tr>\n",
       "      <th>775</th>\n",
       "      <td>Timo Werner</td>\n",
       "      <td>18.0</td>\n",
       "      <td>64</td>\n",
       "      <td>6</td>\n",
       "      <td>9.047314</td>\n",
       "      <td>0.141364</td>\n",
       "      <td>[VfB Stuttgart]</td>\n",
       "      <td>-0.047614</td>\n",
       "    </tr>\n",
       "    <tr>\n",
       "      <th>641</th>\n",
       "      <td>Paulo Bruno Exequiel Dybala</td>\n",
       "      <td>21.0</td>\n",
       "      <td>90</td>\n",
       "      <td>11</td>\n",
       "      <td>8.770637</td>\n",
       "      <td>0.097452</td>\n",
       "      <td>[Juventus]</td>\n",
       "      <td>0.024771</td>\n",
       "    </tr>\n",
       "    <tr>\n",
       "      <th>188</th>\n",
       "      <td>Deyverson Brum Silva Acosta</td>\n",
       "      <td>23.0</td>\n",
       "      <td>72</td>\n",
       "      <td>9</td>\n",
       "      <td>8.161678</td>\n",
       "      <td>0.113357</td>\n",
       "      <td>[Levante UD]</td>\n",
       "      <td>0.011643</td>\n",
       "    </tr>\n",
       "    <tr>\n",
       "      <th>606</th>\n",
       "      <td>Nicolas de Roussel de Préville</td>\n",
       "      <td>23.0</td>\n",
       "      <td>80</td>\n",
       "      <td>6</td>\n",
       "      <td>8.126116</td>\n",
       "      <td>0.101576</td>\n",
       "      <td>[Stade de Reims]</td>\n",
       "      <td>-0.026576</td>\n",
       "    </tr>\n",
       "    <tr>\n",
       "      <th>675</th>\n",
       "      <td>Riyad Mahrez</td>\n",
       "      <td>23.0</td>\n",
       "      <td>76</td>\n",
       "      <td>13</td>\n",
       "      <td>8.100391</td>\n",
       "      <td>0.106584</td>\n",
       "      <td>[Leicester City]</td>\n",
       "      <td>0.064469</td>\n",
       "    </tr>\n",
       "    <tr>\n",
       "      <th>821</th>\n",
       "      <td>Yunus Mallı</td>\n",
       "      <td>22.0</td>\n",
       "      <td>61</td>\n",
       "      <td>10</td>\n",
       "      <td>7.893506</td>\n",
       "      <td>0.129402</td>\n",
       "      <td>[FSV Mainz 05]</td>\n",
       "      <td>0.034533</td>\n",
       "    </tr>\n",
       "    <tr>\n",
       "      <th>158</th>\n",
       "      <td>Cédric Bakambu</td>\n",
       "      <td>23.0</td>\n",
       "      <td>49</td>\n",
       "      <td>12</td>\n",
       "      <td>7.863304</td>\n",
       "      <td>0.160476</td>\n",
       "      <td>[Villarreal]</td>\n",
       "      <td>0.084422</td>\n",
       "    </tr>\n",
       "    <tr>\n",
       "      <th>752</th>\n",
       "      <td>Stephan El Shaarawy</td>\n",
       "      <td>22.0</td>\n",
       "      <td>72</td>\n",
       "      <td>8</td>\n",
       "      <td>7.746490</td>\n",
       "      <td>0.107590</td>\n",
       "      <td>[AS Roma, AS Monaco]</td>\n",
       "      <td>0.003521</td>\n",
       "    </tr>\n",
       "    <tr>\n",
       "      <th>206</th>\n",
       "      <td>Duván Esteban Zapata Banguera</td>\n",
       "      <td>23.0</td>\n",
       "      <td>52</td>\n",
       "      <td>8</td>\n",
       "      <td>7.727743</td>\n",
       "      <td>0.148610</td>\n",
       "      <td>[Udinese]</td>\n",
       "      <td>0.005236</td>\n",
       "    </tr>\n",
       "    <tr>\n",
       "      <th>482</th>\n",
       "      <td>Luis Alberto Romero Alconchel</td>\n",
       "      <td>22.0</td>\n",
       "      <td>79</td>\n",
       "      <td>6</td>\n",
       "      <td>7.521003</td>\n",
       "      <td>0.095203</td>\n",
       "      <td>[RC Deportivo La Coruña]</td>\n",
       "      <td>-0.019253</td>\n",
       "    </tr>\n",
       "    <tr>\n",
       "      <th>79</th>\n",
       "      <td>Anthony Martial</td>\n",
       "      <td>19.0</td>\n",
       "      <td>58</td>\n",
       "      <td>11</td>\n",
       "      <td>7.515750</td>\n",
       "      <td>0.129582</td>\n",
       "      <td>[AS Monaco, Manchester United]</td>\n",
       "      <td>0.060073</td>\n",
       "    </tr>\n",
       "    <tr>\n",
       "      <th>291</th>\n",
       "      <td>Guido Marcelo Carrillo</td>\n",
       "      <td>23.0</td>\n",
       "      <td>48</td>\n",
       "      <td>4</td>\n",
       "      <td>7.515727</td>\n",
       "      <td>0.156578</td>\n",
       "      <td>[AS Monaco]</td>\n",
       "      <td>-0.073244</td>\n",
       "    </tr>\n",
       "    <tr>\n",
       "      <th>398</th>\n",
       "      <td>Joshua King</td>\n",
       "      <td>22.0</td>\n",
       "      <td>56</td>\n",
       "      <td>6</td>\n",
       "      <td>7.483208</td>\n",
       "      <td>0.133629</td>\n",
       "      <td>[AFC Bournemouth]</td>\n",
       "      <td>-0.026486</td>\n",
       "    </tr>\n",
       "    <tr>\n",
       "      <th>819</th>\n",
       "      <td>Yoshinori Muto</td>\n",
       "      <td>22.0</td>\n",
       "      <td>32</td>\n",
       "      <td>7</td>\n",
       "      <td>7.411420</td>\n",
       "      <td>0.231607</td>\n",
       "      <td>[FSV Mainz 05]</td>\n",
       "      <td>-0.012857</td>\n",
       "    </tr>\n",
       "    <tr>\n",
       "      <th>579</th>\n",
       "      <td>Mohamed Salah</td>\n",
       "      <td>22.0</td>\n",
       "      <td>73</td>\n",
       "      <td>14</td>\n",
       "      <td>7.347782</td>\n",
       "      <td>0.100655</td>\n",
       "      <td>[AS Roma]</td>\n",
       "      <td>0.091126</td>\n",
       "    </tr>\n",
       "    <tr>\n",
       "      <th>829</th>\n",
       "      <td>Álvaro Vázquez García</td>\n",
       "      <td>23.0</td>\n",
       "      <td>44</td>\n",
       "      <td>4</td>\n",
       "      <td>7.290137</td>\n",
       "      <td>0.165685</td>\n",
       "      <td>[Getafe]</td>\n",
       "      <td>-0.074776</td>\n",
       "    </tr>\n",
       "    <tr>\n",
       "      <th>468</th>\n",
       "      <td>Lorenzo Insigne</td>\n",
       "      <td>23.0</td>\n",
       "      <td>125</td>\n",
       "      <td>8</td>\n",
       "      <td>7.232754</td>\n",
       "      <td>0.057862</td>\n",
       "      <td>[Napoli]</td>\n",
       "      <td>0.006138</td>\n",
       "    </tr>\n",
       "    <tr>\n",
       "      <th>477</th>\n",
       "      <td>Lucas Rodrigues Moura da Silva</td>\n",
       "      <td>22.0</td>\n",
       "      <td>61</td>\n",
       "      <td>8</td>\n",
       "      <td>7.224061</td>\n",
       "      <td>0.118427</td>\n",
       "      <td>[Paris Saint-Germain]</td>\n",
       "      <td>0.012720</td>\n",
       "    </tr>\n",
       "    <tr>\n",
       "      <th>2</th>\n",
       "      <td>Abdul Majeed Waris</td>\n",
       "      <td>23.0</td>\n",
       "      <td>53</td>\n",
       "      <td>9</td>\n",
       "      <td>7.066368</td>\n",
       "      <td>0.133328</td>\n",
       "      <td>[Lorient]</td>\n",
       "      <td>0.036484</td>\n",
       "    </tr>\n",
       "    <tr>\n",
       "      <th>499</th>\n",
       "      <td>Manuel Pucciarelli</td>\n",
       "      <td>23.0</td>\n",
       "      <td>58</td>\n",
       "      <td>6</td>\n",
       "      <td>7.050661</td>\n",
       "      <td>0.121563</td>\n",
       "      <td>[Empoli]</td>\n",
       "      <td>-0.018115</td>\n",
       "    </tr>\n",
       "    <tr>\n",
       "      <th>650</th>\n",
       "      <td>Philippe Coutinho Correia</td>\n",
       "      <td>22.0</td>\n",
       "      <td>105</td>\n",
       "      <td>8</td>\n",
       "      <td>7.035726</td>\n",
       "      <td>0.067007</td>\n",
       "      <td>[Liverpool]</td>\n",
       "      <td>0.009184</td>\n",
       "    </tr>\n",
       "    <tr>\n",
       "      <th>547</th>\n",
       "      <td>Mattia Destro</td>\n",
       "      <td>23.0</td>\n",
       "      <td>62</td>\n",
       "      <td>6</td>\n",
       "      <td>6.967237</td>\n",
       "      <td>0.112375</td>\n",
       "      <td>[Bologna]</td>\n",
       "      <td>-0.015601</td>\n",
       "    </tr>\n",
       "    <tr>\n",
       "      <th>190</th>\n",
       "      <td>Diego Alejandro Rolan Silva</td>\n",
       "      <td>21.0</td>\n",
       "      <td>45</td>\n",
       "      <td>5</td>\n",
       "      <td>6.780608</td>\n",
       "      <td>0.150680</td>\n",
       "      <td>[Bordeaux]</td>\n",
       "      <td>-0.039569</td>\n",
       "    </tr>\n",
       "    <tr>\n",
       "      <th>663</th>\n",
       "      <td>Raheem Sterling</td>\n",
       "      <td>20.0</td>\n",
       "      <td>51</td>\n",
       "      <td>6</td>\n",
       "      <td>6.752899</td>\n",
       "      <td>0.132410</td>\n",
       "      <td>[Manchester City]</td>\n",
       "      <td>-0.014763</td>\n",
       "    </tr>\n",
       "    <tr>\n",
       "      <th>636</th>\n",
       "      <td>Paul Pogba</td>\n",
       "      <td>21.0</td>\n",
       "      <td>108</td>\n",
       "      <td>6</td>\n",
       "      <td>6.654749</td>\n",
       "      <td>0.061618</td>\n",
       "      <td>[Juventus]</td>\n",
       "      <td>-0.006062</td>\n",
       "    </tr>\n",
       "    <tr>\n",
       "      <th>225</th>\n",
       "      <td>Erik Lamela</td>\n",
       "      <td>22.0</td>\n",
       "      <td>54</td>\n",
       "      <td>5</td>\n",
       "      <td>6.627425</td>\n",
       "      <td>0.122730</td>\n",
       "      <td>[Tottenham Hotspur]</td>\n",
       "      <td>-0.030137</td>\n",
       "    </tr>\n",
       "    <tr>\n",
       "      <th>734</th>\n",
       "      <td>Sergio Ezequiel Araújo</td>\n",
       "      <td>22.0</td>\n",
       "      <td>61</td>\n",
       "      <td>5</td>\n",
       "      <td>6.594439</td>\n",
       "      <td>0.108106</td>\n",
       "      <td>[Las Palmas]</td>\n",
       "      <td>-0.026138</td>\n",
       "    </tr>\n",
       "    <tr>\n",
       "      <th>275</th>\n",
       "      <td>Gerard Moreno Balaguero</td>\n",
       "      <td>22.0</td>\n",
       "      <td>53</td>\n",
       "      <td>6</td>\n",
       "      <td>6.589145</td>\n",
       "      <td>0.124323</td>\n",
       "      <td>[Espanyol]</td>\n",
       "      <td>-0.011116</td>\n",
       "    </tr>\n",
       "    <tr>\n",
       "      <th>101</th>\n",
       "      <td>Bamidele Alli</td>\n",
       "      <td>18.0</td>\n",
       "      <td>73</td>\n",
       "      <td>10</td>\n",
       "      <td>6.405091</td>\n",
       "      <td>0.087741</td>\n",
       "      <td>[Tottenham Hotspur]</td>\n",
       "      <td>0.049245</td>\n",
       "    </tr>\n",
       "    <tr>\n",
       "      <th>771</th>\n",
       "      <td>Thorgan Hazard</td>\n",
       "      <td>21.0</td>\n",
       "      <td>44</td>\n",
       "      <td>4</td>\n",
       "      <td>6.382548</td>\n",
       "      <td>0.145058</td>\n",
       "      <td>[Borussia Mönchengladbach]</td>\n",
       "      <td>-0.054149</td>\n",
       "    </tr>\n",
       "    <tr>\n",
       "      <th>826</th>\n",
       "      <td>Álvaro Borja Morata Martín</td>\n",
       "      <td>22.0</td>\n",
       "      <td>48</td>\n",
       "      <td>6</td>\n",
       "      <td>6.355141</td>\n",
       "      <td>0.132399</td>\n",
       "      <td>[Juventus]</td>\n",
       "      <td>-0.007399</td>\n",
       "    </tr>\n",
       "    <tr>\n",
       "      <th>810</th>\n",
       "      <td>Willian José da Silva</td>\n",
       "      <td>23.0</td>\n",
       "      <td>54</td>\n",
       "      <td>9</td>\n",
       "      <td>6.277702</td>\n",
       "      <td>0.116254</td>\n",
       "      <td>[Las Palmas]</td>\n",
       "      <td>0.050413</td>\n",
       "    </tr>\n",
       "    <tr>\n",
       "      <th>702</th>\n",
       "      <td>Ross Barkley</td>\n",
       "      <td>21.0</td>\n",
       "      <td>83</td>\n",
       "      <td>6</td>\n",
       "      <td>6.201361</td>\n",
       "      <td>0.074715</td>\n",
       "      <td>[Everton]</td>\n",
       "      <td>-0.002426</td>\n",
       "    </tr>\n",
       "    <tr>\n",
       "      <th>509</th>\n",
       "      <td>Marco Asensio Willemsen</td>\n",
       "      <td>18.0</td>\n",
       "      <td>53</td>\n",
       "      <td>4</td>\n",
       "      <td>6.074548</td>\n",
       "      <td>0.114614</td>\n",
       "      <td>[Espanyol]</td>\n",
       "      <td>-0.039142</td>\n",
       "    </tr>\n",
       "    <tr>\n",
       "      <th>674</th>\n",
       "      <td>Riccardo Saponara</td>\n",
       "      <td>23.0</td>\n",
       "      <td>71</td>\n",
       "      <td>4</td>\n",
       "      <td>5.960652</td>\n",
       "      <td>0.083953</td>\n",
       "      <td>[Empoli]</td>\n",
       "      <td>-0.027615</td>\n",
       "    </tr>\n",
       "  </tbody>\n",
       "</table>\n",
       "</div>"
      ],
      "text/plain": [
       "                        player_name   age  shots_taken  goals   total_xG  \\\n",
       "701            Romelu Lukaku Menama  21.0          109     17  17.376951   \n",
       "297                      Harry Kane  21.0          152     20  16.780940   \n",
       "600   Neymar da Silva Santos Junior  22.0          102     18  16.531256   \n",
       "568           Michy Batshuayi Tunga  21.0          115     15  15.920925   \n",
       "49              Alexandre Lacazette  23.0           91     19  14.530583   \n",
       "113            Borja González Tomás  22.0           91     15  14.099628   \n",
       "527  Martin Braithwaite Christensen  23.0           99      8  13.191057   \n",
       "81                Antoine Griezmann  23.0           85     19  11.401254   \n",
       "713                      Sadio Mané  22.0           85     11  10.770893   \n",
       "30              Aleksandar Mitrović  20.0           78      7  10.206592   \n",
       "554     Mauro Emanuel Icardi Rivero  21.0           57     15  10.119717   \n",
       "67                   Andrea Belotti  21.0           69      8  10.036159   \n",
       "251        Francisco Alcácer García  21.0           57     11   9.994244   \n",
       "92   Arnaldo Antonio Sanabria Ayala  18.0           49      9   9.639058   \n",
       "77                      Andy Delort  23.0          123      8   9.472973   \n",
       "775                     Timo Werner  18.0           64      6   9.047314   \n",
       "641     Paulo Bruno Exequiel Dybala  21.0           90     11   8.770637   \n",
       "188     Deyverson Brum Silva Acosta  23.0           72      9   8.161678   \n",
       "606  Nicolas de Roussel de Préville  23.0           80      6   8.126116   \n",
       "675                    Riyad Mahrez  23.0           76     13   8.100391   \n",
       "821                     Yunus Mallı  22.0           61     10   7.893506   \n",
       "158                  Cédric Bakambu  23.0           49     12   7.863304   \n",
       "752             Stephan El Shaarawy  22.0           72      8   7.746490   \n",
       "206   Duván Esteban Zapata Banguera  23.0           52      8   7.727743   \n",
       "482   Luis Alberto Romero Alconchel  22.0           79      6   7.521003   \n",
       "79                  Anthony Martial  19.0           58     11   7.515750   \n",
       "291          Guido Marcelo Carrillo  23.0           48      4   7.515727   \n",
       "398                     Joshua King  22.0           56      6   7.483208   \n",
       "819                  Yoshinori Muto  22.0           32      7   7.411420   \n",
       "579                   Mohamed Salah  22.0           73     14   7.347782   \n",
       "829           Álvaro Vázquez García  23.0           44      4   7.290137   \n",
       "468                 Lorenzo Insigne  23.0          125      8   7.232754   \n",
       "477  Lucas Rodrigues Moura da Silva  22.0           61      8   7.224061   \n",
       "2                Abdul Majeed Waris  23.0           53      9   7.066368   \n",
       "499              Manuel Pucciarelli  23.0           58      6   7.050661   \n",
       "650       Philippe Coutinho Correia  22.0          105      8   7.035726   \n",
       "547                   Mattia Destro  23.0           62      6   6.967237   \n",
       "190     Diego Alejandro Rolan Silva  21.0           45      5   6.780608   \n",
       "663                 Raheem Sterling  20.0           51      6   6.752899   \n",
       "636                      Paul Pogba  21.0          108      6   6.654749   \n",
       "225                     Erik Lamela  22.0           54      5   6.627425   \n",
       "734          Sergio Ezequiel Araújo  22.0           61      5   6.594439   \n",
       "275         Gerard Moreno Balaguero  22.0           53      6   6.589145   \n",
       "101                   Bamidele Alli  18.0           73     10   6.405091   \n",
       "771                  Thorgan Hazard  21.0           44      4   6.382548   \n",
       "826      Álvaro Borja Morata Martín  22.0           48      6   6.355141   \n",
       "810           Willian José da Silva  23.0           54      9   6.277702   \n",
       "702                    Ross Barkley  21.0           83      6   6.201361   \n",
       "509         Marco Asensio Willemsen  18.0           53      4   6.074548   \n",
       "674               Riccardo Saponara  23.0           71      4   5.960652   \n",
       "\n",
       "       avg_xG                           teams  overperformance  \n",
       "701  0.159422                       [Everton]        -0.003458  \n",
       "297  0.110401             [Tottenham Hotspur]         0.021178  \n",
       "600  0.162071                     [Barcelona]         0.014399  \n",
       "568  0.138443                     [Marseille]        -0.008008  \n",
       "49   0.159677                          [Lyon]         0.049114  \n",
       "113  0.154941                         [Eibar]         0.009894  \n",
       "527  0.133243                      [Toulouse]        -0.052435  \n",
       "81   0.134132               [Atlético Madrid]         0.089397  \n",
       "713  0.126716                   [Southampton]         0.002695  \n",
       "30   0.130854              [Newcastle United]        -0.041110  \n",
       "554  0.177539                   [Inter Milan]         0.085619  \n",
       "67   0.145452                        [Torino]        -0.029510  \n",
       "251  0.175338                      [Valencia]         0.017645  \n",
       "92   0.196715                [Sporting Gijón]        -0.013042  \n",
       "77   0.077016                          [Caen]        -0.011975  \n",
       "775  0.141364                 [VfB Stuttgart]        -0.047614  \n",
       "641  0.097452                      [Juventus]         0.024771  \n",
       "188  0.113357                    [Levante UD]         0.011643  \n",
       "606  0.101576                [Stade de Reims]        -0.026576  \n",
       "675  0.106584                [Leicester City]         0.064469  \n",
       "821  0.129402                  [FSV Mainz 05]         0.034533  \n",
       "158  0.160476                    [Villarreal]         0.084422  \n",
       "752  0.107590            [AS Roma, AS Monaco]         0.003521  \n",
       "206  0.148610                       [Udinese]         0.005236  \n",
       "482  0.095203        [RC Deportivo La Coruña]        -0.019253  \n",
       "79   0.129582  [AS Monaco, Manchester United]         0.060073  \n",
       "291  0.156578                     [AS Monaco]        -0.073244  \n",
       "398  0.133629               [AFC Bournemouth]        -0.026486  \n",
       "819  0.231607                  [FSV Mainz 05]        -0.012857  \n",
       "579  0.100655                       [AS Roma]         0.091126  \n",
       "829  0.165685                        [Getafe]        -0.074776  \n",
       "468  0.057862                        [Napoli]         0.006138  \n",
       "477  0.118427           [Paris Saint-Germain]         0.012720  \n",
       "2    0.133328                       [Lorient]         0.036484  \n",
       "499  0.121563                        [Empoli]        -0.018115  \n",
       "650  0.067007                     [Liverpool]         0.009184  \n",
       "547  0.112375                       [Bologna]        -0.015601  \n",
       "190  0.150680                      [Bordeaux]        -0.039569  \n",
       "663  0.132410               [Manchester City]        -0.014763  \n",
       "636  0.061618                      [Juventus]        -0.006062  \n",
       "225  0.122730             [Tottenham Hotspur]        -0.030137  \n",
       "734  0.108106                    [Las Palmas]        -0.026138  \n",
       "275  0.124323                      [Espanyol]        -0.011116  \n",
       "101  0.087741             [Tottenham Hotspur]         0.049245  \n",
       "771  0.145058      [Borussia Mönchengladbach]        -0.054149  \n",
       "826  0.132399                      [Juventus]        -0.007399  \n",
       "810  0.116254                    [Las Palmas]         0.050413  \n",
       "702  0.074715                       [Everton]        -0.002426  \n",
       "509  0.114614                      [Espanyol]        -0.039142  \n",
       "674  0.083953                        [Empoli]        -0.027615  "
      ]
     },
     "execution_count": 88,
     "metadata": {},
     "output_type": "execute_result"
    }
   ],
   "source": [
    "player_summary.sort_values(by='total_xG',ascending=False).head(n=50)"
   ]
  },
  {
   "cell_type": "code",
   "execution_count": 117,
   "id": "3ef8dc6a",
   "metadata": {},
   "outputs": [
    {
     "data": {
      "application/vnd.plotly.v1+json": {
       "config": {
        "plotlyServerURL": "https://plot.ly"
       },
       "data": [
        {
         "customdata": [
          [
           "Yoshinori Muto",
           [
            "FSV Mainz 05"
           ],
           22
          ],
          [
           "Arnaldo Antonio Sanabria Ayala",
           [
            "Sporting Gijón"
           ],
           18
          ],
          [
           "Aïssa Mandi",
           [
            "Stade de Reims"
           ],
           23
          ],
          [
           "Khouma El Hadji Babacar",
           [
            "Fiorentina"
           ],
           21
          ],
          [
           "Carlos Castro García",
           [
            "Sporting Gijón"
           ],
           19
          ],
          [
           "Mauro Emanuel Icardi Rivero",
           [
            "Inter Milan"
           ],
           21
          ],
          [
           "Francisco Alcácer García",
           [
            "Valencia"
           ],
           21
          ],
          [
           "Jhon Andrés Córdoba Copete",
           [
            "FSV Mainz 05"
           ],
           21
          ],
          [
           "Álvaro Vázquez García",
           [
            "Getafe"
           ],
           23
          ],
          [
           "Mark Uth",
           [
            "Hoffenheim"
           ],
           23
          ],
          [
           "Neymar da Silva Santos Junior",
           [
            "Barcelona"
           ],
           22
          ],
          [
           "Cédric Bakambu",
           [
            "Villarreal"
           ],
           23
          ],
          [
           "Hélder Wander Sousa Azevedo Costa",
           [
            "AS Monaco"
           ],
           20
          ],
          [
           "Alexandre Lacazette",
           [
            "Lyon"
           ],
           23
          ],
          [
           "Romelu Lukaku Menama",
           [
            "Everton"
           ],
           21
          ],
          [
           "John Guidetti",
           [
            "Celta Vigo"
           ],
           22
          ],
          [
           "Guido Marcelo Carrillo",
           [
            "AS Monaco"
           ],
           23
          ],
          [
           "Borja González Tomás",
           [
            "Eibar"
           ],
           22
          ],
          [
           "Kelechi Promise Iheanacho",
           [
            "Manchester City"
           ],
           18
          ],
          [
           "Diego Alejandro Rolan Silva",
           [
            "Bordeaux"
           ],
           21
          ],
          [
           "Thievy Guivane Bifouma Koulossa",
           [
            "Granada",
            "Stade de Reims"
           ],
           22
          ],
          [
           "Duván Esteban Zapata Banguera",
           [
            "Udinese"
           ],
           23
          ],
          [
           "Steve Cook",
           [
            "AFC Bournemouth"
           ],
           23
          ],
          [
           "Joël Andre Job Matip",
           [
            "Schalke 04"
           ],
           23
          ],
          [
           "Andrea Belotti",
           [
            "Torino"
           ],
           21
          ],
          [
           "Thorgan Hazard",
           [
            "Borussia Mönchengladbach"
           ],
           21
          ],
          [
           "Virgil van Dijk",
           [
            "Southampton"
           ],
           23
          ],
          [
           "Connor Wickham",
           [
            "Crystal Palace"
           ],
           21
          ],
          [
           "Timo Werner",
           [
            "VfB Stuttgart"
           ],
           18
          ],
          [
           "Michy Batshuayi Tunga",
           [
            "Marseille"
           ],
           21
          ],
          [
           "Mario Pašalić",
           [
            "AS Monaco"
           ],
           19
          ],
          [
           "Luciano Vietto",
           [
            "Atlético Madrid"
           ],
           21
          ],
          [
           "Santiago Mina Lorenzo",
           [
            "Valencia"
           ],
           19
          ],
          [
           "Antoine Griezmann",
           [
            "Atlético Madrid"
           ],
           23
          ],
          [
           "Joshua King",
           [
            "AFC Bournemouth"
           ],
           22
          ],
          [
           "Abdul Majeed Waris",
           [
            "Lorient"
           ],
           23
          ],
          [
           "Martin Braithwaite Christensen",
           [
            "Toulouse"
           ],
           23
          ],
          [
           "Gnaly Maxwell Cornet",
           [
            "Lyon"
           ],
           18
          ],
          [
           "Raheem Sterling",
           [
            "Manchester City"
           ],
           20
          ],
          [
           "Álvaro Borja Morata Martín",
           [
            "Juventus"
           ],
           22
          ],
          [
           "Aleksandar Mitrović",
           [
            "Newcastle United"
           ],
           20
          ],
          [
           "Stefan Bell",
           [
            "FSV Mainz 05"
           ],
           23
          ],
          [
           "Jesé Rodríguez Ruiz",
           [
            "Real Madrid"
           ],
           21
          ],
          [
           "Enzo Crivelli",
           [
            "Bordeaux"
           ],
           19
          ],
          [
           "Anthony Martial",
           [
            "AS Monaco",
            "Manchester United"
           ],
           19
          ],
          [
           "Yunus Mallı",
           [
            "FSV Mainz 05"
           ],
           22
          ],
          [
           "Lukas Hinterseer",
           [
            "Ingolstadt"
           ],
           23
          ],
          [
           "Sadio Mané",
           [
            "Southampton"
           ],
           22
          ],
          [
           "Saido Berahino",
           [
            "West Bromwich Albion"
           ],
           21
          ],
          [
           "Gerard Moreno Balaguero",
           [
            "Espanyol"
           ],
           22
          ],
          [
           "Pierre-Michel Lasogga",
           [
            "Hamburger SV"
           ],
           23
          ],
          [
           "Erik Lamela",
           [
            "Tottenham Hotspur"
           ],
           22
          ],
          [
           "Manuel Pucciarelli",
           [
            "Empoli"
           ],
           23
          ],
          [
           "José Ramiro Funes Mori",
           [
            "Everton"
           ],
           23
          ],
          [
           "Jerry Uche Mbakogu",
           [
            "Carpi"
           ],
           22
          ],
          [
           "Lucas Rodrigues Moura da Silva",
           [
            "Paris Saint-Germain"
           ],
           22
          ],
          [
           "Julian Brandt",
           [
            "Bayer Leverkusen"
           ],
           18
          ],
          [
           "Jean-Christophe Bahebeck",
           [
            "Saint-Étienne"
           ],
           21
          ],
          [
           "Willian José da Silva",
           [
            "Las Palmas"
           ],
           23
          ],
          [
           "Lucas Ariel Ocampos",
           [
            "Marseille"
           ],
           20
          ],
          [
           "Marco Asensio Willemsen",
           [
            "Espanyol"
           ],
           18
          ],
          [
           "Layvin Kurzawa",
           [
            "AS Monaco",
            "Paris Saint-Germain"
           ],
           22
          ],
          [
           "Jeison Fabián Murillo Cerón",
           [
            "Inter Milan"
           ],
           22
          ],
          [
           "Heung-Min Son",
           [
            "Tottenham Hotspur",
            "Bayer Leverkusen"
           ],
           22
          ],
          [
           "Lukas Rupp",
           [
            "VfB Stuttgart"
           ],
           23
          ],
          [
           "Deyverson Brum Silva Acosta",
           [
            "Levante UD"
           ],
           23
          ],
          [
           "Roberto Inglese",
           [
            "Chievo"
           ],
           23
          ],
          [
           "Oscar Hiljemark",
           [
            "Palermo"
           ],
           22
          ],
          [
           "Sabin Merino Zuloaga",
           [
            "Athletic Club"
           ],
           22
          ],
          [
           "Mattia Destro",
           [
            "Bologna"
           ],
           23
          ],
          [
           "Serge Aurier",
           [
            "Paris Saint-Germain"
           ],
           22
          ],
          [
           "Yassine Benzia",
           [
            "Lille"
           ],
           20
          ],
          [
           "Diego Falcinelli",
           [
            "Sassuolo"
           ],
           23
          ],
          [
           "Max Meyer",
           [
            "Schalke 04"
           ],
           19
          ],
          [
           "Bernardo Mota Veiga de Carvalho e Silva",
           [
            "AS Monaco"
           ],
           20
          ],
          [
           "Bryan Dabo",
           [
            "Montpellier"
           ],
           22
          ],
          [
           "Gregoire Defrel",
           [
            "Sassuolo"
           ],
           23
          ],
          [
           "Harry Kane",
           [
            "Tottenham Hotspur"
           ],
           21
          ],
          [
           "Roger Martí Salvador",
           [
            "Levante UD"
           ],
           23
          ],
          [
           "Andrej Kramarić",
           [
            "Leicester City",
            "Hoffenheim"
           ],
           23
          ],
          [
           "Ryder Matos Santos",
           [
            "Carpi",
            "Udinese"
           ],
           21
          ],
          [
           "Manolo Gabbiadini",
           [
            "Napoli"
           ],
           23
          ],
          [
           "Sergio Ezequiel Araújo",
           [
            "Las Palmas"
           ],
           22
          ],
          [
           "Stephan El Shaarawy",
           [
            "AS Roma",
            "AS Monaco"
           ],
           22
          ],
          [
           "Josef Alexander Martínez Mencia",
           [
            "Torino"
           ],
           21
          ],
          [
           "Joel Nathaniel Campbell Samuels",
           [
            "Arsenal"
           ],
           22
          ],
          [
           "Rodrigue Casimir Ninga",
           [
            "Montpellier"
           ],
           21
          ],
          [
           "Ousmane Dembélé",
           [
            "Rennes"
           ],
           17
          ],
          [
           "Silvan Widmer",
           [
            "Udinese"
           ],
           21
          ],
          [
           "Riyad Mahrez",
           [
            "Leicester City"
           ],
           23
          ],
          [
           "Gadji Celi Carmen Junior Tallo",
           [
            "Lille"
           ],
           22
          ],
          [
           "Leonardo Bittencourt",
           [
            "FC Köln"
           ],
           21
          ],
          [
           "Iker Muniain Goñi",
           [
            "Athletic Club"
           ],
           22
          ],
          [
           "Thiago Alcântara do Nascimento",
           [
            "Bayern Munich"
           ],
           23
          ],
          [
           "Jannik Vestergaard",
           [
            "Werder Bremen"
           ],
           22
          ],
          [
           "Mikel Oyarzabal Ugarte",
           [
            "Real Sociedad"
           ],
           17
          ],
          [
           "Simon Zoller",
           [
            "FC Köln"
           ],
           23
          ],
          [
           "Rodrigo Moreno Machado",
           [
            "Valencia"
           ],
           23
          ],
          [
           "Jairo Samperio Bustara",
           [
            "FSV Mainz 05"
           ],
           21
          ],
          [
           "Nicolas de Roussel de Préville",
           [
            "Stade de Reims"
           ],
           23
          ],
          [
           "Lucas Vázquez Iglesias",
           [
            "Real Madrid"
           ],
           23
          ],
          [
           "Luis Fernando Muriel Fruto",
           [
            "Sampdoria"
           ],
           23
          ],
          [
           "Mohamed Salah",
           [
            "AS Roma"
           ],
           22
          ],
          [
           "Carlos Joaquín Correa",
           [
            "Sampdoria"
           ],
           20
          ],
          [
           "Wilfried Zaha",
           [
            "Crystal Palace"
           ],
           22
          ],
          [
           "Kenan Karaman",
           [
            "Hannover 96"
           ],
           20
          ],
          [
           "Kingsley Coman",
           [
            "Juventus",
            "Bayern Munich"
           ],
           18
          ],
          [
           "Michael Gregoritsch",
           [
            "Hamburger SV"
           ],
           20
          ],
          [
           "Kevin Volland",
           [
            "Hoffenheim"
           ],
           22
          ],
          [
           "Mathew Leckie",
           [
            "Ingolstadt"
           ],
           23
          ],
          [
           "Alassane Pléa",
           [
            "OGC Nice"
           ],
           21
          ],
          [
           "Genki Haraguchi",
           [
            "Hertha Berlin"
           ],
           23
          ],
          [
           "Paulo Bruno Exequiel Dybala",
           [
            "Juventus"
           ],
           21
          ],
          [
           "Theoson Jordan Siebatcheu",
           [
            "Stade de Reims"
           ],
           18
          ],
          [
           "M''Baye Babacar Niang",
           [
            "AC Milan"
           ],
           20
          ],
          [
           "Juan Pablo Añor Acosta",
           [
            "Málaga"
           ],
           20
          ],
          [
           "Adem Ljajić",
           [
            "Inter Milan"
           ],
           23
          ],
          [
           "Ángel Martín Correa",
           [
            "Atlético Madrid"
           ],
           19
          ],
          [
           "Luis Alberto Romero Alconchel",
           [
            "RC Deportivo La Coruña"
           ],
           22
          ],
          [
           "Francisco Román Alarcón Suárez",
           [
            "Real Madrid"
           ],
           22
          ],
          [
           "Kevin Lasagna",
           [
            "Carpi"
           ],
           22
          ],
          [
           "Jeffrey Schlupp",
           [
            "Leicester City"
           ],
           22
          ],
          [
           "Roberto Firmino Barbosa de Oliveira",
           [
            "Liverpool"
           ],
           23
          ],
          [
           "Benjamin Jeannot",
           [
            "Lorient"
           ],
           22
          ],
          [
           "Julian Draxler",
           [
            "Schalke 04",
            "Wolfsburg"
           ],
           21
          ],
          [
           "Kevin De Bruyne",
           [
            "Manchester City",
            "Wolfsburg"
           ],
           23
          ],
          [
           "Jack Rodwell",
           [
            "Sunderland"
           ],
           23
          ],
          [
           "Marcus Coco",
           [
            "Guingamp"
           ],
           18
          ],
          [
           "Nicola Sansone",
           [
            "Sassuolo"
           ],
           23
          ],
          [
           "Shkodran Mustafi",
           [
            "Valencia"
           ],
           22
          ],
          [
           "Jozabed Sánchez Ruiz",
           [
            "Rayo Vallecano"
           ],
           23
          ],
          [
           "Diego Sebastián Laxalt Suárez",
           [
            "Genoa"
           ],
           21
          ],
          [
           "André Biyogo Poko",
           [
            "Bordeaux"
           ],
           21
          ],
          [
           "Corentin Tolisso",
           [
            "Lyon"
           ],
           20
          ],
          [
           "Bamidele Alli",
           [
            "Tottenham Hotspur"
           ],
           18
          ],
          [
           "Rachid Ghezzal",
           [
            "Lyon"
           ],
           22
          ],
          [
           "Divock Okoth Origi",
           [
            "Liverpool"
           ],
           19
          ],
          [
           "Keita Baldé Diao",
           [
            "Lazio"
           ],
           19
          ],
          [
           "Víctor Camarasa Ferrando",
           [
            "Levante UD"
           ],
           20
          ],
          [
           "Haris Seferović",
           [
            "Eintracht Frankfurt"
           ],
           22
          ],
          [
           "Adalberto Peñaranda Maestre",
           [
            "Granada"
           ],
           17
          ],
          [
           "Fabio Borini",
           [
            "Sunderland"
           ],
           23
          ],
          [
           "Gonzalo Escalante",
           [
            "Eibar"
           ],
           21
          ],
          [
           "Oscar dos Santos Emboaba Júnior",
           [
            "Chelsea"
           ],
           23
          ],
          [
           "Simone Zaza",
           [
            "Juventus"
           ],
           23
          ],
          [
           "Oriol Romeu Vidal",
           [
            "Southampton"
           ],
           23
          ],
          [
           "Admir Mehmedi",
           [
            "Bayer Leverkusen"
           ],
           23
          ],
          [
           "Raphaël Adelino José Guerreiro",
           [
            "Lorient"
           ],
           21
          ],
          [
           "Wahbi Khazri",
           [
            "Sunderland",
            "Bordeaux"
           ],
           23
          ],
          [
           "Florian Thauvin",
           [
            "Newcastle United",
            "Marseille"
           ],
           21
          ],
          [
           "Ivaylo Chochev",
           [
            "Palermo"
           ],
           21
          ],
          [
           "Jesse Lingard",
           [
            "Manchester United"
           ],
           22
          ],
          [
           "Leroy Sané",
           [
            "Schalke 04"
           ],
           18
          ],
          [
           "Armindo Tué Na Bangna",
           [
            "Real Sociedad"
           ],
           20
          ],
          [
           "Isaac Ajayi Success",
           [
            "Granada"
           ],
           18
          ],
          [
           "Roberto Soriano",
           [
            "Sampdoria"
           ],
           23
          ],
          [
           "Riccardo Saponara",
           [
            "Empoli"
           ],
           23
          ],
          [
           "Eden Hazard",
           [
            "Chelsea"
           ],
           23
          ],
          [
           "Jorge Franco Alviz",
           [
            "Espanyol"
           ],
           21
          ],
          [
           "Daniele Baselli",
           [
            "Torino"
           ],
           22
          ],
          [
           "Abdoulaye Doucouré",
           [
            "Rennes",
            "Granada"
           ],
           22
          ],
          [
           "Jorge Resurrección Merodio",
           [
            "Atlético Madrid"
           ],
           22
          ],
          [
           "Iñaki Williams Arthuer",
           [
            "Athletic Club"
           ],
           20
          ],
          [
           "Lorenzo Pellegrini",
           [
            "Sassuolo"
           ],
           18
          ],
          [
           "Gilles Sunu",
           [
            "Angers"
           ],
           23
          ],
          [
           "Pablo Sarabia García",
           [
            "Getafe"
           ],
           22
          ],
          [
           "Memphis Depay",
           [
            "Manchester United"
           ],
           20
          ],
          [
           "Felipe Anderson Pereira Gomes",
           [
            "Lazio"
           ],
           21
          ],
          [
           "Leonardo Carrilho Baptistão",
           [
            "Villarreal"
           ],
           22
          ],
          [
           "Nicolas Benezet",
           [
            "Guingamp"
           ],
           23
          ],
          [
           "Christian Clemens",
           [
            "FSV Mainz 05"
           ],
           23
          ],
          [
           "Filip Kostić",
           [
            "VfB Stuttgart"
           ],
           22
          ],
          [
           "Cristian Tello Herrera",
           [
            "Fiorentina"
           ],
           23
          ],
          [
           "Sergi Darder Moll",
           [
            "Málaga",
            "Lyon"
           ],
           21
          ],
          [
           "Thomas Touré",
           [
            "Bordeaux"
           ],
           21
          ],
          [
           "Adrián Embarba Blázquez",
           [
            "Rayo Vallecano"
           ],
           22
          ],
          [
           "Thomas Lemar",
           [
            "AS Monaco"
           ],
           19
          ],
          [
           "Sofiane Boufal",
           [
            "Lille"
           ],
           21
          ],
          [
           "Georges-Kévin Nkoudou Mbida",
           [
            "Marseille"
           ],
           19
          ],
          [
           "Adryan Oliveira Tavares",
           [
            "Nantes"
           ],
           20
          ],
          [
           "Andy Delort",
           [
            "Caen"
           ],
           23
          ],
          [
           "Adrien Thomasson",
           [
            "Nantes"
           ],
           21
          ],
          [
           "Corentin Jean",
           [
            "Troyes"
           ],
           19
          ],
          [
           "Ayoze Pérez Gutiérrez",
           [
            "Newcastle United"
           ],
           21
          ],
          [
           "Jean Michaël Seri",
           [
            "OGC Nice"
           ],
           23
          ],
          [
           "Kévin Mayi",
           [
            "Gazélec Ajaccio"
           ],
           21
          ],
          [
           "Alen Halilović",
           [
            "Sporting Gijón"
           ],
           18
          ],
          [
           "Nadiem Amiri",
           [
            "Hoffenheim"
           ],
           18
          ],
          [
           "Jordan Ayew",
           [
            "Aston Villa"
           ],
           23
          ],
          [
           "James David Rodríguez Rubio",
           [
            "Real Madrid"
           ],
           23
          ],
          [
           "Sergio Gontán Gallardo",
           [
            "Eibar"
           ],
           23
          ],
          [
           "Ross Barkley",
           [
            "Everton"
           ],
           21
          ],
          [
           "Marcos Paulo Mesquita Lopes",
           [
            "Lille",
            "AS Monaco"
           ],
           19
          ],
          [
           "Adam Ounas",
           [
            "Bordeaux"
           ],
           18
          ],
          [
           "Victor Wanyama",
           [
            "Southampton"
           ],
           23
          ],
          [
           "Florian Grillitsch",
           [
            "Werder Bremen"
           ],
           19
          ],
          [
           "Leon Goretzka",
           [
            "Schalke 04"
           ],
           19
          ],
          [
           "Luca Paganini",
           [
            "Frosinone"
           ],
           21
          ],
          [
           "Aleksandar Trajkovski",
           [
            "Palermo"
           ],
           22
          ],
          [
           "Maximilian Arnold",
           [
            "Wolfsburg"
           ],
           20
          ],
          [
           "Denis Suárez Fernández",
           [
            "Villarreal"
           ],
           20
          ],
          [
           "Jimmy Cabot",
           [
            "Troyes",
            "Lorient"
           ],
           20
          ],
          [
           "Sergej Milinković-Savić",
           [
            "Lazio"
           ],
           19
          ],
          [
           "François Kamano",
           [
            "Bastia"
           ],
           18
          ],
          [
           "Emre Can",
           [
            "Liverpool"
           ],
           20
          ],
          [
           "Marco Benassi",
           [
            "Torino"
           ],
           20
          ],
          [
           "Eric Dier",
           [
            "Tottenham Hotspur"
           ],
           20
          ],
          [
           "Federico Bernardeschi",
           [
            "Fiorentina"
           ],
           20
          ],
          [
           "Saúl Ñíguez Esclapez",
           [
            "Atlético Madrid"
           ],
           20
          ],
          [
           "Alex Oxlade-Chamberlain",
           [
            "Arsenal"
           ],
           21
          ],
          [
           "Domenico Berardi",
           [
            "Sassuolo"
           ],
           20
          ],
          [
           "Mahmoud Dahoud",
           [
            "Borussia Mönchengladbach"
           ],
           19
          ],
          [
           "André Filipe Tavares Gomes",
           [
            "Valencia"
           ],
           21
          ],
          [
           "Philippe Coutinho Correia",
           [
            "Liverpool"
           ],
           22
          ],
          [
           "Manuel Lanzini",
           [
            "West Ham United"
           ],
           21
          ],
          [
           "Yannick Ferreira Carrasco",
           [
            "Atlético Madrid"
           ],
           21
          ],
          [
           "Xherdan Shaqiri",
           [
            "Stoke City"
           ],
           23
          ],
          [
           "Jean-Daniel Akpa Akpro",
           [
            "Toulouse"
           ],
           22
          ],
          [
           "Alessandro Florenzi",
           [
            "AS Roma"
           ],
           23
          ],
          [
           "Marcelo Brozović",
           [
            "Inter Milan"
           ],
           22
          ],
          [
           "Nathan Redmond",
           [
            "Norwich City"
           ],
           20
          ],
          [
           "Nathaniel Edwin Clyne",
           [
            "Liverpool"
           ],
           23
          ],
          [
           "Levin Mete Öztunali",
           [
            "Werder Bremen"
           ],
           18
          ],
          [
           "Pablo Fornals Malla",
           [
            "Málaga"
           ],
           18
          ],
          [
           "Djibril Sidibé",
           [
            "Lille"
           ],
           22
          ],
          [
           "Álvaro Medrán Just",
           [
            "Getafe"
           ],
           20
          ],
          [
           "Yannick Gerhardt",
           [
            "FC Köln"
           ],
           20
          ],
          [
           "Jeff Louis",
           [
            "Caen"
           ],
           22
          ],
          [
           "Yacine Bammou",
           [
            "Nantes"
           ],
           23
          ],
          [
           "Matteo Politano",
           [
            "Sassuolo"
           ],
           21
          ],
          [
           "Alhassane Bangoura",
           [
            "Rayo Vallecano",
            "Stade de Reims"
           ],
           22
          ],
          [
           "Samuel Castillejo Azuaga",
           [
            "Villarreal"
           ],
           19
          ],
          [
           "Paul Pogba",
           [
            "Juventus"
           ],
           21
          ],
          [
           "Hakan Çalhanoğlu",
           [
            "Bayer Leverkusen"
           ],
           20
          ],
          [
           "Yannis Salibur",
           [
            "Guingamp"
           ],
           23
          ],
          [
           "Seko Fofana",
           [
            "Bastia"
           ],
           19
          ],
          [
           "Jefferson Andrés Lerma Solís",
           [
            "Levante UD"
           ],
           20
          ],
          [
           "Jordan Ferri",
           [
            "Lyon"
           ],
           22
          ],
          [
           "Didier Ndong Ibrahim",
           [
            "Lorient"
           ],
           20
          ],
          [
           "Jesús Joaquín Fernández Sáez de la Torre",
           [
            "Genoa",
            "AC Milan"
           ],
           21
          ],
          [
           "Rubén Pardo Gutiérrez",
           [
            "Real Sociedad"
           ],
           22
          ],
          [
           "Lorenzo Insigne",
           [
            "Napoli"
           ],
           23
          ],
          [
           "Allan Marques Loureiro",
           [
            "Napoli"
           ],
           23
          ],
          [
           "Pierre-Emile Højbjerg",
           [
            "Schalke 04"
           ],
           19
          ],
          [
           "Saphir Sliti Taïder",
           [
            "Bologna"
           ],
           22
          ],
          [
           "Jordon Ibe",
           [
            "Liverpool"
           ],
           19
          ],
          [
           "Andros Townsend",
           [
            "Newcastle United",
            "Tottenham Hotspur"
           ],
           23
          ],
          [
           "Issiaga Sylla",
           [
            "Gazélec Ajaccio"
           ],
           21
          ],
          [
           "Joseph Alfred Duncan",
           [
            "Sassuolo"
           ],
           21
          ],
          [
           "James Ward-Prowse",
           [
            "Southampton"
           ],
           20
          ],
          [
           "Christian Dannemann Eriksen",
           [
            "Tottenham Hotspur"
           ],
           22
          ],
          [
           "Robert Brady",
           [
            "Norwich City"
           ],
           22
          ],
          [
           "José Luis García del Pozo",
           [
            "Málaga"
           ],
           23
          ],
          [
           "Carlos Henrique Casimiro",
           [
            "Real Madrid"
           ],
           22
          ],
          [
           "Valentin Eysseric",
           [
            "Saint-Étienne"
           ],
           22
          ],
          [
           "Isaac Cofie",
           [
            "Carpi"
           ],
           23
          ],
          [
           "Marc Stendera",
           [
            "Eintracht Frankfurt"
           ],
           19
          ],
          [
           "Tolga Ciğerci",
           [
            "Hertha Berlin"
           ],
           22
          ],
          [
           "Geoffrey Kondogbia",
           [
            "Inter Milan"
           ],
           21
          ],
          [
           "Jonathan Rodríguez Menéndez",
           [
            "Sporting Gijón"
           ],
           23
          ],
          [
           "Fernando Lucas Martins",
           [
            "Sampdoria"
           ],
           22
          ],
          [
           "Wanderson Maciel Sousa Campos",
           [
            "Getafe"
           ],
           20
          ],
          [
           "Leandro Bacuna",
           [
            "Aston Villa"
           ],
           23
          ],
          [
           "Piotr Zieliński",
           [
            "Empoli"
           ],
           20
          ],
          [
           "Alberto Moreno Pérez",
           [
            "Liverpool"
           ],
           22
          ],
          [
           "Sergio Canales Madrazo",
           [
            "Real Sociedad"
           ],
           23
          ],
          [
           "Fábio Henrique Tavares",
           [
            "AS Monaco"
           ],
           21
          ],
          [
           "Manuel Trigueros Muñoz",
           [
            "Villarreal"
           ],
           23
          ],
          [
           "Granit Xhaka",
           [
            "Borussia Mönchengladbach"
           ],
           22
          ],
          [
           "Rubén Rochina Naixes",
           [
            "Granada"
           ],
           23
          ],
          [
           "Jules Olivier Ntcham",
           [
            "Genoa"
           ],
           18
          ],
          [
           "Bruno Miguel Borges Fernandes",
           [
            "Udinese"
           ],
           20
          ],
          [
           "Dominik Kohr",
           [
            "Augsburg"
           ],
           20
          ],
          [
           "Federico Nicolás Cartabia",
           [
            "RC Deportivo La Coruña"
           ],
           21
          ],
          [
           "Jonjo Shelvey",
           [
            "Newcastle United",
            "Swansea City"
           ],
           22
          ],
          [
           "Gilbert Gianelli Imbula Wanga",
           [
            "Stoke City"
           ],
           22
          ],
          [
           "N''Golo Kanté",
           [
            "Leicester City"
           ],
           23
          ],
          [
           "Marten de Roon",
           [
            "Atalanta"
           ],
           23
          ],
          [
           "Ali Adnan Kadhim Al Tameemi",
           [
            "Udinese"
           ],
           21
          ],
          [
           "Matías Vecino Falero",
           [
            "Fiorentina"
           ],
           23
          ],
          [
           "Federico Viviani",
           [
            "Hellas Verona"
           ],
           22
          ],
          [
           "David Olatukunbo Alaba",
           [
            "Bayern Munich"
           ],
           22
          ],
          [
           "Pascal Groß",
           [
            "Ingolstadt"
           ],
           23
          ],
          [
           "Danilo Cataldi",
           [
            "Lazio"
           ],
           20
          ],
          [
           "Adrien Regattin",
           [
            "Toulouse"
           ],
           23
          ],
          [
           "Marcel Büchel",
           [
            "Empoli"
           ],
           23
          ],
          [
           "Hamari Traoré",
           [
            "Stade de Reims"
           ],
           22
          ],
          [
           "Afriyie Acquah",
           [
            "Torino"
           ],
           22
          ],
          [
           "Jessy Pi",
           [
            "Troyes"
           ],
           21
          ],
          [
           "Amadou Diawara",
           [
            "Bologna"
           ],
           17
          ],
          [
           "Mário Rui Silva Duarte",
           [
            "Empoli"
           ],
           23
          ],
          [
           "Achraf Lazaar",
           [
            "Palermo"
           ],
           22
          ],
          [
           "Johannes Geis",
           [
            "Schalke 04"
           ],
           21
          ],
          [
           "Mirko Gori",
           [
            "Frosinone"
           ],
           21
          ],
          [
           "Leandro Daniel Paredes",
           [
            "Empoli"
           ],
           20
          ],
          [
           "Robert Gucher",
           [
            "Frosinone"
           ],
           23
          ]
         ],
         "hovertemplate": "total_xG=%{x}<br>goals=%{y}<br>player_name=%{customdata[0]}<br>teams=%{customdata[1]}<br>age=%{customdata[2]}<extra></extra>",
         "legendgroup": "",
         "marker": {
          "color": "#636efa",
          "symbol": "circle"
         },
         "mode": "markers",
         "name": "",
         "orientation": "v",
         "showlegend": false,
         "type": "scatter",
         "x": {
          "bdata": "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",
          "dtype": "f8"
         },
         "xaxis": "x",
         "y": {
          "bdata": "BwkFBAcPCwUECBIMAxMRBgQPCAUECAQDCAQDBAYPAwEEEwYJCAgGBgcBBQMLCgULBAYGBQYEAQgIAQkBBAQCBAUJAwQFBgIEAQUHBQcUAAQCBAUIAwMHCgANAAMCAgIGBgIHBgQGDgMCAwQCBgMGAgsDAwQCBQYDBAEKBwYHAQEGAgkDAAUKBgUEAQIFBAMBBQECAgYCAAQIAgYIBAQBBAIFCAMCBgIHAwQFBAICAgIDCAUDCAIDBgMDAwQGBQMGAQUBAQECAwMEBAEDAQMDAgQBAwUDCAUEAwEHBAYBAQEEAgIBBAUBAQYBBQEBAgIGAAgDAAABAwABAAQDAAEDAAIAAQUDAAEFAQAAAgIGAAIAAwACAQEAAgIBAQEBAgICAwAAAQAAAgA=",
          "dtype": "i1"
         },
         "yaxis": "y"
        }
       ],
       "layout": {
        "height": 600,
        "legend": {
         "title": {
          "text": "Player"
         },
         "tracegroupgap": 0
        },
        "margin": {
         "t": 60
        },
        "shapes": [
         {
          "line": {
           "color": "black",
           "dash": "dash"
          },
          "type": "line",
          "x0": 0,
          "x1": 20,
          "y0": 0,
          "y1": 20
         }
        ],
        "template": {
         "data": {
          "bar": [
           {
            "error_x": {
             "color": "#2a3f5f"
            },
            "error_y": {
             "color": "#2a3f5f"
            },
            "marker": {
             "line": {
              "color": "#E5ECF6",
              "width": 0.5
             },
             "pattern": {
              "fillmode": "overlay",
              "size": 10,
              "solidity": 0.2
             }
            },
            "type": "bar"
           }
          ],
          "barpolar": [
           {
            "marker": {
             "line": {
              "color": "#E5ECF6",
              "width": 0.5
             },
             "pattern": {
              "fillmode": "overlay",
              "size": 10,
              "solidity": 0.2
             }
            },
            "type": "barpolar"
           }
          ],
          "carpet": [
           {
            "aaxis": {
             "endlinecolor": "#2a3f5f",
             "gridcolor": "white",
             "linecolor": "white",
             "minorgridcolor": "white",
             "startlinecolor": "#2a3f5f"
            },
            "baxis": {
             "endlinecolor": "#2a3f5f",
             "gridcolor": "white",
             "linecolor": "white",
             "minorgridcolor": "white",
             "startlinecolor": "#2a3f5f"
            },
            "type": "carpet"
           }
          ],
          "choropleth": [
           {
            "colorbar": {
             "outlinewidth": 0,
             "ticks": ""
            },
            "type": "choropleth"
           }
          ],
          "contour": [
           {
            "colorbar": {
             "outlinewidth": 0,
             "ticks": ""
            },
            "colorscale": [
             [
              0,
              "#0d0887"
             ],
             [
              0.1111111111111111,
              "#46039f"
             ],
             [
              0.2222222222222222,
              "#7201a8"
             ],
             [
              0.3333333333333333,
              "#9c179e"
             ],
             [
              0.4444444444444444,
              "#bd3786"
             ],
             [
              0.5555555555555556,
              "#d8576b"
             ],
             [
              0.6666666666666666,
              "#ed7953"
             ],
             [
              0.7777777777777778,
              "#fb9f3a"
             ],
             [
              0.8888888888888888,
              "#fdca26"
             ],
             [
              1,
              "#f0f921"
             ]
            ],
            "type": "contour"
           }
          ],
          "contourcarpet": [
           {
            "colorbar": {
             "outlinewidth": 0,
             "ticks": ""
            },
            "type": "contourcarpet"
           }
          ],
          "heatmap": [
           {
            "colorbar": {
             "outlinewidth": 0,
             "ticks": ""
            },
            "colorscale": [
             [
              0,
              "#0d0887"
             ],
             [
              0.1111111111111111,
              "#46039f"
             ],
             [
              0.2222222222222222,
              "#7201a8"
             ],
             [
              0.3333333333333333,
              "#9c179e"
             ],
             [
              0.4444444444444444,
              "#bd3786"
             ],
             [
              0.5555555555555556,
              "#d8576b"
             ],
             [
              0.6666666666666666,
              "#ed7953"
             ],
             [
              0.7777777777777778,
              "#fb9f3a"
             ],
             [
              0.8888888888888888,
              "#fdca26"
             ],
             [
              1,
              "#f0f921"
             ]
            ],
            "type": "heatmap"
           }
          ],
          "histogram": [
           {
            "marker": {
             "pattern": {
              "fillmode": "overlay",
              "size": 10,
              "solidity": 0.2
             }
            },
            "type": "histogram"
           }
          ],
          "histogram2d": [
           {
            "colorbar": {
             "outlinewidth": 0,
             "ticks": ""
            },
            "colorscale": [
             [
              0,
              "#0d0887"
             ],
             [
              0.1111111111111111,
              "#46039f"
             ],
             [
              0.2222222222222222,
              "#7201a8"
             ],
             [
              0.3333333333333333,
              "#9c179e"
             ],
             [
              0.4444444444444444,
              "#bd3786"
             ],
             [
              0.5555555555555556,
              "#d8576b"
             ],
             [
              0.6666666666666666,
              "#ed7953"
             ],
             [
              0.7777777777777778,
              "#fb9f3a"
             ],
             [
              0.8888888888888888,
              "#fdca26"
             ],
             [
              1,
              "#f0f921"
             ]
            ],
            "type": "histogram2d"
           }
          ],
          "histogram2dcontour": [
           {
            "colorbar": {
             "outlinewidth": 0,
             "ticks": ""
            },
            "colorscale": [
             [
              0,
              "#0d0887"
             ],
             [
              0.1111111111111111,
              "#46039f"
             ],
             [
              0.2222222222222222,
              "#7201a8"
             ],
             [
              0.3333333333333333,
              "#9c179e"
             ],
             [
              0.4444444444444444,
              "#bd3786"
             ],
             [
              0.5555555555555556,
              "#d8576b"
             ],
             [
              0.6666666666666666,
              "#ed7953"
             ],
             [
              0.7777777777777778,
              "#fb9f3a"
             ],
             [
              0.8888888888888888,
              "#fdca26"
             ],
             [
              1,
              "#f0f921"
             ]
            ],
            "type": "histogram2dcontour"
           }
          ],
          "mesh3d": [
           {
            "colorbar": {
             "outlinewidth": 0,
             "ticks": ""
            },
            "type": "mesh3d"
           }
          ],
          "parcoords": [
           {
            "line": {
             "colorbar": {
              "outlinewidth": 0,
              "ticks": ""
             }
            },
            "type": "parcoords"
           }
          ],
          "pie": [
           {
            "automargin": true,
            "type": "pie"
           }
          ],
          "scatter": [
           {
            "fillpattern": {
             "fillmode": "overlay",
             "size": 10,
             "solidity": 0.2
            },
            "type": "scatter"
           }
          ],
          "scatter3d": [
           {
            "line": {
             "colorbar": {
              "outlinewidth": 0,
              "ticks": ""
             }
            },
            "marker": {
             "colorbar": {
              "outlinewidth": 0,
              "ticks": ""
             }
            },
            "type": "scatter3d"
           }
          ],
          "scattercarpet": [
           {
            "marker": {
             "colorbar": {
              "outlinewidth": 0,
              "ticks": ""
             }
            },
            "type": "scattercarpet"
           }
          ],
          "scattergeo": [
           {
            "marker": {
             "colorbar": {
              "outlinewidth": 0,
              "ticks": ""
             }
            },
            "type": "scattergeo"
           }
          ],
          "scattergl": [
           {
            "marker": {
             "colorbar": {
              "outlinewidth": 0,
              "ticks": ""
             }
            },
            "type": "scattergl"
           }
          ],
          "scattermap": [
           {
            "marker": {
             "colorbar": {
              "outlinewidth": 0,
              "ticks": ""
             }
            },
            "type": "scattermap"
           }
          ],
          "scattermapbox": [
           {
            "marker": {
             "colorbar": {
              "outlinewidth": 0,
              "ticks": ""
             }
            },
            "type": "scattermapbox"
           }
          ],
          "scatterpolar": [
           {
            "marker": {
             "colorbar": {
              "outlinewidth": 0,
              "ticks": ""
             }
            },
            "type": "scatterpolar"
           }
          ],
          "scatterpolargl": [
           {
            "marker": {
             "colorbar": {
              "outlinewidth": 0,
              "ticks": ""
             }
            },
            "type": "scatterpolargl"
           }
          ],
          "scatterternary": [
           {
            "marker": {
             "colorbar": {
              "outlinewidth": 0,
              "ticks": ""
             }
            },
            "type": "scatterternary"
           }
          ],
          "surface": [
           {
            "colorbar": {
             "outlinewidth": 0,
             "ticks": ""
            },
            "colorscale": [
             [
              0,
              "#0d0887"
             ],
             [
              0.1111111111111111,
              "#46039f"
             ],
             [
              0.2222222222222222,
              "#7201a8"
             ],
             [
              0.3333333333333333,
              "#9c179e"
             ],
             [
              0.4444444444444444,
              "#bd3786"
             ],
             [
              0.5555555555555556,
              "#d8576b"
             ],
             [
              0.6666666666666666,
              "#ed7953"
             ],
             [
              0.7777777777777778,
              "#fb9f3a"
             ],
             [
              0.8888888888888888,
              "#fdca26"
             ],
             [
              1,
              "#f0f921"
             ]
            ],
            "type": "surface"
           }
          ],
          "table": [
           {
            "cells": {
             "fill": {
              "color": "#EBF0F8"
             },
             "line": {
              "color": "white"
             }
            },
            "header": {
             "fill": {
              "color": "#C8D4E3"
             },
             "line": {
              "color": "white"
             }
            },
            "type": "table"
           }
          ]
         },
         "layout": {
          "annotationdefaults": {
           "arrowcolor": "#2a3f5f",
           "arrowhead": 0,
           "arrowwidth": 1
          },
          "autotypenumbers": "strict",
          "coloraxis": {
           "colorbar": {
            "outlinewidth": 0,
            "ticks": ""
           }
          },
          "colorscale": {
           "diverging": [
            [
             0,
             "#8e0152"
            ],
            [
             0.1,
             "#c51b7d"
            ],
            [
             0.2,
             "#de77ae"
            ],
            [
             0.3,
             "#f1b6da"
            ],
            [
             0.4,
             "#fde0ef"
            ],
            [
             0.5,
             "#f7f7f7"
            ],
            [
             0.6,
             "#e6f5d0"
            ],
            [
             0.7,
             "#b8e186"
            ],
            [
             0.8,
             "#7fbc41"
            ],
            [
             0.9,
             "#4d9221"
            ],
            [
             1,
             "#276419"
            ]
           ],
           "sequential": [
            [
             0,
             "#0d0887"
            ],
            [
             0.1111111111111111,
             "#46039f"
            ],
            [
             0.2222222222222222,
             "#7201a8"
            ],
            [
             0.3333333333333333,
             "#9c179e"
            ],
            [
             0.4444444444444444,
             "#bd3786"
            ],
            [
             0.5555555555555556,
             "#d8576b"
            ],
            [
             0.6666666666666666,
             "#ed7953"
            ],
            [
             0.7777777777777778,
             "#fb9f3a"
            ],
            [
             0.8888888888888888,
             "#fdca26"
            ],
            [
             1,
             "#f0f921"
            ]
           ],
           "sequentialminus": [
            [
             0,
             "#0d0887"
            ],
            [
             0.1111111111111111,
             "#46039f"
            ],
            [
             0.2222222222222222,
             "#7201a8"
            ],
            [
             0.3333333333333333,
             "#9c179e"
            ],
            [
             0.4444444444444444,
             "#bd3786"
            ],
            [
             0.5555555555555556,
             "#d8576b"
            ],
            [
             0.6666666666666666,
             "#ed7953"
            ],
            [
             0.7777777777777778,
             "#fb9f3a"
            ],
            [
             0.8888888888888888,
             "#fdca26"
            ],
            [
             1,
             "#f0f921"
            ]
           ]
          },
          "colorway": [
           "#636efa",
           "#EF553B",
           "#00cc96",
           "#ab63fa",
           "#FFA15A",
           "#19d3f3",
           "#FF6692",
           "#B6E880",
           "#FF97FF",
           "#FECB52"
          ],
          "font": {
           "color": "#2a3f5f"
          },
          "geo": {
           "bgcolor": "white",
           "lakecolor": "white",
           "landcolor": "#E5ECF6",
           "showlakes": true,
           "showland": true,
           "subunitcolor": "white"
          },
          "hoverlabel": {
           "align": "left"
          },
          "hovermode": "closest",
          "mapbox": {
           "style": "light"
          },
          "paper_bgcolor": "white",
          "plot_bgcolor": "#E5ECF6",
          "polar": {
           "angularaxis": {
            "gridcolor": "white",
            "linecolor": "white",
            "ticks": ""
           },
           "bgcolor": "#E5ECF6",
           "radialaxis": {
            "gridcolor": "white",
            "linecolor": "white",
            "ticks": ""
           }
          },
          "scene": {
           "xaxis": {
            "backgroundcolor": "#E5ECF6",
            "gridcolor": "white",
            "gridwidth": 2,
            "linecolor": "white",
            "showbackground": true,
            "ticks": "",
            "zerolinecolor": "white"
           },
           "yaxis": {
            "backgroundcolor": "#E5ECF6",
            "gridcolor": "white",
            "gridwidth": 2,
            "linecolor": "white",
            "showbackground": true,
            "ticks": "",
            "zerolinecolor": "white"
           },
           "zaxis": {
            "backgroundcolor": "#E5ECF6",
            "gridcolor": "white",
            "gridwidth": 2,
            "linecolor": "white",
            "showbackground": true,
            "ticks": "",
            "zerolinecolor": "white"
           }
          },
          "shapedefaults": {
           "line": {
            "color": "#2a3f5f"
           }
          },
          "ternary": {
           "aaxis": {
            "gridcolor": "white",
            "linecolor": "white",
            "ticks": ""
           },
           "baxis": {
            "gridcolor": "white",
            "linecolor": "white",
            "ticks": ""
           },
           "bgcolor": "#E5ECF6",
           "caxis": {
            "gridcolor": "white",
            "linecolor": "white",
            "ticks": ""
           }
          },
          "title": {
           "x": 0.05
          },
          "xaxis": {
           "automargin": true,
           "gridcolor": "white",
           "linecolor": "white",
           "ticks": "",
           "title": {
            "standoff": 15
           },
           "zerolinecolor": "white",
           "zerolinewidth": 2
          },
          "yaxis": {
           "automargin": true,
           "gridcolor": "white",
           "linecolor": "white",
           "ticks": "",
           "title": {
            "standoff": 15
           },
           "zerolinecolor": "white",
           "zerolinewidth": 2
          }
         }
        },
        "title": {
         "text": "Goals vs Expected Goals (xG)"
        },
        "width": 900,
        "xaxis": {
         "anchor": "y",
         "domain": [
          0,
          1
         ],
         "title": {
          "text": "Total Expected Goals (xG)"
         }
        },
        "yaxis": {
         "anchor": "x",
         "domain": [
          0,
          1
         ],
         "title": {
          "text": "Goals Scored"
         }
        }
       }
      }
     },
     "metadata": {},
     "output_type": "display_data"
    }
   ],
   "source": [
    "import plotly.express as px\n",
    "\n",
    "df = player_summary.copy()\n",
    "\n",
    "# Select top 6 players by total_xG\n",
    "#top_xg_df = df.sort_values(\"total_xG\", ascending=False).head(6)\n",
    "\n",
    "# Scatter plot for top 6 only\n",
    "fig = px.scatter(\n",
    "    df,\n",
    "    x=\"total_xG\",\n",
    "    y=\"goals\",\n",
    "    size_max=15,\n",
    "    hover_data=[\"player_name\", \"teams\",\"age\",\"goals\", \"total_xG\"]\n",
    ")\n",
    "\n",
    "# Add diagonal reference line (Goals = xG)\n",
    "lims = [df[[\"total_xG\",\"goals\"]].min().min(), df[[\"total_xG\",\"goals\"]].max().max()]\n",
    "fig.add_shape(\n",
    "    type=\"line\",\n",
    "    x0=lims[0], y0=lims[0],\n",
    "    x1=lims[1], y1=lims[1],\n",
    "    line=dict(color=\"black\", dash=\"dash\")\n",
    ")\n",
    "\n",
    "fig.update_layout(\n",
    "    title=\"Goals vs Expected Goals (xG)\",\n",
    "    xaxis_title=\"Total Expected Goals (xG)\",\n",
    "    yaxis_title=\"Goals Scored\",\n",
    "    legend_title=\"Player\",\n",
    "    width=900,\n",
    "    height=600\n",
    ")\n",
    "\n",
    "fig.show()\n"
   ]
  },
  {
   "cell_type": "code",
   "execution_count": 130,
   "id": "3cdefa54",
   "metadata": {},
   "outputs": [
    {
     "data": {
      "image/png": "[encoded data removed]",
      "text/plain": [
       "<Figure size 900x600 with 1 Axes>"
      ]
     },
     "metadata": {},
     "output_type": "display_data"
    }
   ],
   "source": [
    "import matplotlib.pyplot as plt\n",
    "\n",
    "plt.figure(figsize=(9,6))\n",
    "\n",
    "# Base scatter: all players (grey)\n",
    "plt.scatter(\n",
    "    player_summary[\"total_xG\"], \n",
    "    player_summary[\"goals\"], \n",
    "    color=\"lightgrey\", alpha=0.6, s=40\n",
    ")\n",
    "\n",
    "# Diagonal line (Goals = xG)\n",
    "lims = [player_summary[[\"total_xG\",\"goals\"]].min().min(), \n",
    "        player_summary[[\"total_xG\",\"goals\"]].max().max()]\n",
    "plt.plot(lims, lims, \"k--\", lw=1)\n",
    "\n",
    "plt.title(\"Goals vs Expected Goals (xG)\", fontsize=14)\n",
    "plt.xlabel(\"Total Expected Goals (xG)\")\n",
    "plt.ylabel(\"Goals Scored\")\n",
    "plt.legend()\n",
    "plt.tight_layout()\n",
    "plt.show()\n"
   ]
  },
  {
   "cell_type": "code",
   "execution_count": null,
   "id": "fa616b2a",
   "metadata": {},
   "outputs": [
    {
     "name": "stdout",
     "output_type": "stream",
     "text": [
      "                       player_name  goals   total_xG  shooting_score\n",
      "297                     Harry Kane     20  16.780940       99.831081\n",
      "701           Romelu Lukaku Menama     17  17.376951       99.324324\n",
      "600  Neymar da Silva Santos Junior     18  16.531256       99.155405\n",
      "49             Alexandre Lacazette     19  14.530583       99.070946\n",
      "81               Antoine Griezmann     19  11.401254       98.564189\n",
      "568          Michy Batshuayi Tunga     15  15.920925       98.479730\n",
      "113           Borja González Tomás     15  14.099628       98.141892\n",
      "554    Mauro Emanuel Icardi Rivero     15  10.119717       97.297297\n",
      "713                     Sadio Mané     11  10.770893       96.537162\n",
      "251       Francisco Alcácer García     11   9.994244       95.861486\n"
     ]
    }
   ],
   "source": [
    "df = player_summary.copy()\n",
    "\n",
    "# Calculate percentiles for goals and xG\n",
    "df[\"goals_percentile\"] = df[\"goals\"].rank(pct=True) * 100\n",
    "df[\"xg_percentile\"] = df[\"total_xG\"].rank(pct=True) * 100\n",
    "\n",
    "# Combine with equal weights\n",
    "df[\"shooting_score\"] = 0.5 * df[\"goals_percentile\"] + 0.5 * df[\"xg_percentile\"]\n",
    "\n",
    "# Sort by score\n",
    "df = df.sort_values(\"shooting_score\", ascending=False)\n",
    "\n",
    "# Display top 10\n",
    "print(df[[\"player_name\", \"goals\", \"total_xG\", \"shooting_score\"]].head(10))\n"
   ]
  }
 ],
 "metadata": {
  "kernelspec": {
   "display_name": "Python 3",
   "language": "python",
   "name": "python3"
  },
  "language_info": {
   "codemirror_mode": {
    "name": "ipython",
    "version": 3
   },
   "file_extension": ".py",
   "mimetype": "text/x-python",
   "name": "python",
   "nbconvert_exporter": "python",
   "pygments_lexer": "ipython3",
   "version": "3.13.5"
  }
 },
 "nbformat": 4,
 "nbformat_minor": 5
}
