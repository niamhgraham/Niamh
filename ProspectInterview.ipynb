{
  "nbformat": 4,
  "nbformat_minor": 0,
  "metadata": {
    "colab": {
      "provenance": [],
      "authorship_tag": "ABX9TyNnSatBF5AfXZspHC2FNKvs",
      "include_colab_link": true
    },
    "kernelspec": {
      "name": "python3",
      "display_name": "Python 3"
    },
    "language_info": {
      "name": "python"
    }
  },
  "cells": [
    {
      "cell_type": "markdown",
      "metadata": {
        "id": "view-in-github",
        "colab_type": "text"
      },
      "source": [
        "<a href=\"https://colab.research.google.com/github/niamhgraham/Niamh/blob/master/ProspectInterview.ipynb\" target=\"_parent\"><img src=\"https://colab.research.google.com/assets/colab-badge.svg\" alt=\"Open In Colab\"/></a>"
      ]
    },
    {
      "cell_type": "code",
      "execution_count": null,
      "metadata": {
        "id": "Y4I3VRFiWzs6"
      },
      "outputs": [],
      "source": []
    },
    {
      "cell_type": "markdown",
      "source": [
        "# Prospect Football Interview Task\n",
        "\n",
        "One of the main requirements of the Data Scientist role at Prospect is to use various datasets to create new and novel metrics to explain team and player performance. With that in mind and with the datasets provided, we’d like you to create a presentation explaining the different playing styles of the teams participating in the J League in 2024, using any modelling or statistical techniques of your choice.\n",
        "\n",
        "\n",
        "\n",
        "We’re particularly interested to learn if you can tell us how they vary in their approaches in build-up and how they also look to defend. We’d also like you to do a deep dive on a single team of interest, analysing their strengths and weaknesses.\n",
        "\n",
        "\n",
        "\n",
        "You’ll be required to present your presentation back to a panel representing the roles of a Sporting Director, Head of Recruitment and Head Coach. Please consider how your presentation should cater to these different stakeholders and what potential questions could come up when discussing how these teams play."
      ],
      "metadata": {
        "id": "fYXngwDVW9iG"
      }
    },
    {
      "cell_type": "markdown",
      "source": [
        "**Consideraions**\n",
        "\n",
        "*   What metrics contribute to build up play\n",
        "*   What metrics contribute to defensive play\n",
        "*   Carry out a PCA on the metrics to try and find a defensive and build up\n",
        "*   Look at how effective the strategies are by looking at how many chances/shots/xg team has and how many goals they have conceded.\n",
        "*   \n",
        "\n",
        "\n"
      ],
      "metadata": {
        "id": "_9ucytcOXFPc"
      }
    },
    {
      "cell_type": "code",
      "source": [
        "import numpy as np\n",
        "import json\n",
        "import glob\n",
        "import pandas as pd\n",
        "from tqdm import tqdm\n",
        "from concurrent.futures import ProcessPoolExecutor\n",
        "import concurrent.futures\n",
        "import os\n",
        "import requests\n",
        "import json\n",
        "import math"
      ],
      "metadata": {
        "id": "CcinC61pfG4k"
      },
      "execution_count": null,
      "outputs": []
    },
    {
      "cell_type": "code",
      "source": [
        "#load in data\n",
        "match_data=json.load(sb_matches.json)\n",
        "match_data=pd.json_normalize(match_data)"
      ],
      "metadata": {
        "id": "Crcs_c-Ic5vT",
        "colab": {
          "base_uri": "https://localhost:8080/",
          "height": 176
        },
        "outputId": "fb4d071a-7b86-4570-aefd-03c48abd3d8d"
      },
      "execution_count": null,
      "outputs": [
        {
          "output_type": "error",
          "ename": "NameError",
          "evalue": "name 'sb_matches' is not defined",
          "traceback": [
            "\u001b[0;31m---------------------------------------------------------------------------\u001b[0m",
            "\u001b[0;31mNameError\u001b[0m                                 Traceback (most recent call last)",
            "\u001b[0;32m<ipython-input-10-bbdafd031dd4>\u001b[0m in \u001b[0;36m<cell line: 0>\u001b[0;34m()\u001b[0m\n\u001b[1;32m      1\u001b[0m \u001b[0;31m#load in data\u001b[0m\u001b[0;34m\u001b[0m\u001b[0;34m\u001b[0m\u001b[0m\n\u001b[0;32m----> 2\u001b[0;31m \u001b[0mmatch_data\u001b[0m\u001b[0;34m=\u001b[0m\u001b[0mjson\u001b[0m\u001b[0;34m.\u001b[0m\u001b[0mload\u001b[0m\u001b[0;34m(\u001b[0m\u001b[0msb_matches\u001b[0m\u001b[0;34m.\u001b[0m\u001b[0mjson\u001b[0m\u001b[0;34m)\u001b[0m\u001b[0;34m\u001b[0m\u001b[0;34m\u001b[0m\u001b[0m\n\u001b[0m\u001b[1;32m      3\u001b[0m \u001b[0mmatch_data\u001b[0m\u001b[0;34m=\u001b[0m\u001b[0mpd\u001b[0m\u001b[0;34m.\u001b[0m\u001b[0mjson_normalize\u001b[0m\u001b[0;34m(\u001b[0m\u001b[0mmatch_data\u001b[0m\u001b[0;34m)\u001b[0m\u001b[0;34m\u001b[0m\u001b[0;34m\u001b[0m\u001b[0m\n",
            "\u001b[0;31mNameError\u001b[0m: name 'sb_matches' is not defined"
          ]
        }
      ]
    },
    {
      "cell_type": "code",
      "source": [
        "# Load the JSON event data, inserting relevant file path\n",
        "#with open('sb_events.json') as f:\n",
        "#e_data = json.load(f)\n",
        "# Load the JSON match data, inserting relevant file path\n",
        "with open('matches.json') as f:\n",
        "  m_data = json.load(f)\n",
        "# Convert the JSON data to a DataFrame\n",
        "#events_df = pd.json_normalize(e_data)\n",
        "matches_df = pd.json_normalize(m_data)\n",
        "#To make the naming convention correct\n",
        "#events_df.columns = events_df.columns.str.replace(\".name\", \"\", regex=True)\n",
        "#events_df.columns = events_df.columns.str.replace(\"[.]\", \"_\", regex=True)\n",
        "matches_df.columns = matches_df.columns.str.replace(\".name\", \"\", regex=True)\n",
        "matches_df.columns = matches_df.columns.str.replace(\"[.]\", \"_\", regex=True)"
      ],
      "metadata": {
        "colab": {
          "base_uri": "https://localhost:8080/",
          "height": 211
        },
        "id": "MRyTo7I-dSvo",
        "outputId": "a0384acd-9055-4060-8ef4-480ca7afe52f"
      },
      "execution_count": null,
      "outputs": [
        {
          "output_type": "error",
          "ename": "FileNotFoundError",
          "evalue": "[Errno 2] No such file or directory: 'matches.json'",
          "traceback": [
            "\u001b[0;31m---------------------------------------------------------------------------\u001b[0m",
            "\u001b[0;31mFileNotFoundError\u001b[0m                         Traceback (most recent call last)",
            "\u001b[0;32m<ipython-input-2-11a0ff5a9623>\u001b[0m in \u001b[0;36m<cell line: 0>\u001b[0;34m()\u001b[0m\n\u001b[1;32m      3\u001b[0m \u001b[0;31m#e_data = json.load(f)\u001b[0m\u001b[0;34m\u001b[0m\u001b[0;34m\u001b[0m\u001b[0m\n\u001b[1;32m      4\u001b[0m \u001b[0;31m# Load the JSON match data, inserting relevant file path\u001b[0m\u001b[0;34m\u001b[0m\u001b[0;34m\u001b[0m\u001b[0m\n\u001b[0;32m----> 5\u001b[0;31m \u001b[0;32mwith\u001b[0m \u001b[0mopen\u001b[0m\u001b[0;34m(\u001b[0m\u001b[0;34m'matches.json'\u001b[0m\u001b[0;34m)\u001b[0m \u001b[0;32mas\u001b[0m \u001b[0mf\u001b[0m\u001b[0;34m:\u001b[0m\u001b[0;34m\u001b[0m\u001b[0;34m\u001b[0m\u001b[0m\n\u001b[0m\u001b[1;32m      6\u001b[0m   \u001b[0mm_data\u001b[0m \u001b[0;34m=\u001b[0m \u001b[0mjson\u001b[0m\u001b[0;34m.\u001b[0m\u001b[0mload\u001b[0m\u001b[0;34m(\u001b[0m\u001b[0mf\u001b[0m\u001b[0;34m)\u001b[0m\u001b[0;34m\u001b[0m\u001b[0;34m\u001b[0m\u001b[0m\n\u001b[1;32m      7\u001b[0m \u001b[0;31m# Convert the JSON data to a DataFrame\u001b[0m\u001b[0;34m\u001b[0m\u001b[0;34m\u001b[0m\u001b[0m\n",
            "\u001b[0;31mFileNotFoundError\u001b[0m: [Errno 2] No such file or directory: 'matches.json'"
          ]
        }
      ]
    }
  ]
}